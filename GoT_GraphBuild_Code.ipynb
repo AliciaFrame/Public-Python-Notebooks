{
 "cells": [
  {
   "cell_type": "markdown",
   "metadata": {},
   "source": [
    "# Game of Thrones Graph Builder \n",
    "\n",
    "This code builds the Game of Thrones graph that I use in my **Data Science Workflow: Game of Thrones Example** notebook. It's separate because I don't want to accidentally re-run this code in my main notebook and break my graph! "
   ]
  },
  {
   "cell_type": "code",
   "execution_count": 1,
   "metadata": {},
   "outputs": [],
   "source": [
    "from py2neo import Graph"
   ]
  },
  {
   "cell_type": "code",
   "execution_count": 3,
   "metadata": {},
   "outputs": [],
   "source": [
    "uri = 'bolt://localhost:7687'\n",
    "GoTGraph=Graph(uri, auth=(\"neo4j\",\"password\"))"
   ]
  },
  {
   "cell_type": "code",
   "execution_count": 4,
   "metadata": {},
   "outputs": [
    {
     "data": {
      "text/plain": [
       "<py2neo.graph.Cursor at 0x1144ef390>"
      ]
     },
     "execution_count": 4,
     "metadata": {},
     "output_type": "execute_result"
    }
   ],
   "source": [
    "query='''\n",
    "    CALL apoc.schema.assert(\n",
    "{Location:['name'],Region:['name']},\n",
    "{Battle:['name'],Person:['name'],House:['name']});\n",
    "'''\n",
    "GoTGraph.run(query)"
   ]
  },
  {
   "cell_type": "code",
   "execution_count": null,
   "metadata": {},
   "outputs": [],
   "source": [
    "#I'm gluing data together from a few sources here"
   ]
  },
  {
   "cell_type": "code",
   "execution_count": null,
   "metadata": {},
   "outputs": [],
   "source": [
    "query='''\n",
    "LOAD CSV WITH HEADERS FROM \n",
    "\"https://raw.githubusercontent.com/tomasonjo/neo4j-game-of-thrones/master/data/battles.csv\" as row\n",
    "//merge node labeled Battle \n",
    "MERGE (b:Battle{name:row.name})\n",
    "ON CREATE SET b.year = toINT(row.year),\n",
    "              b.summer = row.summer,\n",
    "              b.major_death = row.major_death,\n",
    "              b.major_capture = row.major_capture,\n",
    "              b.note = row.note,\n",
    "              b.battle_type = row.battle_type,\n",
    "              b.attacker_size = toINT(row.attacker_size),\n",
    "              b.defender_size = toINT(row.defender_size)\n",
    "'''\n",
    "GoTGraph.run(query)"
   ]
  },
  {
   "cell_type": "code",
   "execution_count": null,
   "metadata": {},
   "outputs": [],
   "source": [
    "query='''\n",
    "LOAD CSV WITH HEADERS FROM \n",
    "\"https://raw.githubusercontent.com/tomasonjo/neo4j-game-of-thrones/master/data/battles.csv\" as row\n",
    "// there is only attacker_outcome in the data, \n",
    "// so we do a CASE statement for defender_outcome\n",
    "WITH row,\n",
    "case when row.attacker_outcome = \"win\" THEN \"loss\" ELSE \"win\" END as defender_outcome\n",
    "// match the battle\n",
    "MATCH (b:Battle{name:row.name})\n",
    "// all battles have atleast one attacker so we don't have to use foreach trick\n",
    "MERGE (attacker1:House{name:row.attacker_1}) \n",
    "MERGE (attacker1)-[a1:ATTACKER]->(b) \n",
    "ON CREATE SET a1.outcome = row.attacker_outcome\n",
    "\n",
    "// When we want to skip null values we can use foreach trick\n",
    "FOREACH\n",
    "  (ignoreMe IN CASE WHEN row.defender_1 is not null THEN [1] ELSE [] END | \n",
    "    MERGE (defender1:House{name:row.defender_1})\n",
    "    MERGE (defender1)-[d1:DEFENDER]->(b)\n",
    "    ON CREATE SET d1.outcome = defender_outcome)\n",
    "FOREACH\n",
    "  (ignoreMe IN CASE WHEN row.defender_2 is not null THEN [1] ELSE [] END | \n",
    "    MERGE (defender2:House{name:row.defender_2})\n",
    "    MERGE (defender2)-[d2:DEFENDER]->(b)\n",
    "    ON CREATE SET d2.outcome = defender_outcome)\n",
    "FOREACH\n",
    "  (ignoreMe IN CASE WHEN row.attacker_2 is not null THEN [1] ELSE [] END | \n",
    "    MERGE (attacker2:House{name:row.attacker_2})\n",
    "    MERGE (attacker2)-[a2:ATTACKER]->(b)\n",
    "    ON CREATE SET a2.outcome = row.attacker_outcome)\n",
    "FOREACH\n",
    "  (ignoreMe IN CASE WHEN row.attacker_3 is not null THEN [1] ELSE [] END | \n",
    "    MERGE (attacker2:House{name:row.attacker_3})\n",
    "    MERGE (attacker3)-[a3:ATTACKER]->(b)\n",
    "    ON CREATE SET a3.outcome = row.attacker_outcome)\n",
    "FOREACH\n",
    "  (ignoreMe IN CASE WHEN row.attacker_4 is not null THEN [1] ELSE [] END | \n",
    "    MERGE (attacker4:House{name:row.attacker_4})\n",
    "    MERGE (attacker4)-[a4:ATTACKER]->(b)\n",
    "    ON CREATE SET a4.outcome = row.attacker_outcome)\n",
    "'''\n",
    "\n",
    "GoTGraph.run(query)"
   ]
  },
  {
   "cell_type": "code",
   "execution_count": null,
   "metadata": {},
   "outputs": [],
   "source": [
    "query='''\n",
    "    LOAD CSV WITH HEADERS FROM \n",
    "    \"https://raw.githubusercontent.com/tomasonjo/neo4j-game-of-thrones/master/data/battles.csv\" as row\n",
    "    MATCH (b:Battle{name:row.name})\n",
    "    // We use coalesce, so that null values are replaced with \"Unknown\" \n",
    "    MERGE (location:Location{name:coalesce(row.location,\"Unknown\")})\n",
    "    MERGE (b)-[:IS_IN]->(location)\n",
    "    MERGE (region:Region{name:row.region})\n",
    "    MERGE (location)-[:IS_IN]->(region)\n",
    "'''\n",
    "GoTGraph.run(query)"
   ]
  },
  {
   "cell_type": "code",
   "execution_count": null,
   "metadata": {},
   "outputs": [],
   "source": [
    "query='''\n",
    "    LOAD CSV WITH HEADERS FROM \n",
    "    \"https://raw.githubusercontent.com/tomasonjo/neo4j-game-of-thrones/master/data/battles.csv\" as row\n",
    "    // We split the columns that may contain more than one person\n",
    "    WITH row,\n",
    "         split(row.attacker_commander,\",\") as att_commanders,\n",
    "         split(row.defender_commander,\",\") as def_commanders,\n",
    "         split(row.attacker_king,\"/\") as att_kings,\n",
    "         split(row.defender_king,\"/\") as def_kings,\n",
    "         row.attacker_outcome as att_outcome,\n",
    "         CASE when row.attacker_outcome = \"win\" THEN \"loss\" \n",
    "         ELSE \"win\" END as def_outcome\n",
    "    MATCH (b:Battle{name:row.name})\n",
    "    // we unwind a list\n",
    "    UNWIND att_commanders as att_commander\n",
    "    MERGE (p:Person{name:trim(att_commander)})\n",
    "    MERGE (p)-[ac:ATTACKER_COMMANDER]->(b)\n",
    "    ON CREATE SET ac.outcome=att_outcome\n",
    "    // to end the unwind and correct cardinality(number of rows)\n",
    "    // we use any aggregation function ( e.g. count(*))\n",
    "    WITH b,def_commanders,def_kings,att_kings,att_outcome,def_outcome,count(*) as c1\n",
    "    UNWIND def_commanders as def_commander\n",
    "    MERGE (p:Person{name:trim(def_commander)})\n",
    "    MERGE (p)-[dc:DEFENDER_COMMANDER]->(b)\n",
    "    ON CREATE SET dc.outcome = def_outcome\n",
    "    // reset cardinality with an aggregation function (end the unwind)\n",
    "    WITH b,def_kings,att_kings,att_outcome,def_outcome,count(*) as c2\n",
    "    UNWIND def_kings as def_king\n",
    "    MERGE (p:Person{name:trim(def_king)})\n",
    "    MERGE (p)-[dk:DEFENDER_KING]->(b)\n",
    "    ON CREATE SET dk.outcome = def_outcome\n",
    "    // reset cardinality with an aggregation function (end the unwind)\n",
    "    WITH b,att_kings,att_outcome,count(*) as c3\n",
    "    UNWIND att_kings as att_king\n",
    "    MERGE (p:Person{name:trim(att_king)})\n",
    "    MERGE (p)-[ak:ATTACKER_KING]->(b)\n",
    "    ON CREATE SET ak.outcome = att_outcome\n",
    "'''\n",
    "GoTGraph.run(query)"
   ]
  },
  {
   "cell_type": "code",
   "execution_count": null,
   "metadata": {},
   "outputs": [],
   "source": [
    "query='''\n",
    "LOAD CSV WITH HEADERS FROM \n",
    "\"https://raw.githubusercontent.com/tomasonjo/neo4j-game-of-thrones/master/data/character-deaths.csv\" as row\n",
    "// we can use CASE in a WITH statement\n",
    "with row,\n",
    "     case when row.Nobility = \"1\" then \"Noble\" else \"Commoner\" end as status_value\n",
    "// as seen above we remove \"House \" for better linking\n",
    "MERGE (house:House{name:replace(row.Allegiances,\"House \",\"\")})\n",
    "MERGE (person:Person{name:row.Name})\n",
    "// we can also use CASE statement inline\n",
    "SET person.gender = case when row.Gender = \"1\" then \"male\" else \"female\" end,\n",
    "    person.book_intro_chapter = row.`Book Intro Chapter`, \n",
    "    person.book_death_chapter = row.`Death Chapter`,\n",
    "    person.book_of_death = row.`Book of Death`,\n",
    "    person.death_year = toINT(row.`Death Year`)\n",
    "MERGE (person)-[:BELONGS_TO]->(house)\n",
    "MERGE (status:Status{name:status_value})\n",
    "MERGE (person)-[:HAS_STATUS]->(status)\n",
    "// doing the foreach trick to skip null values\n",
    "FOREACH\n",
    "  (ignoreMe IN CASE WHEN row.GoT = \"1\" THEN [1] ELSE [] END | \n",
    "    MERGE (book1:Book{sequence:1}) \n",
    "    ON CREATE SET book1.name = \"Game of thrones\" \n",
    "    MERGE (person)-[:APPEARED_IN]->(book1))\n",
    "FOREACH\n",
    "  (ignoreMe IN CASE WHEN row.CoK = \"1\" THEN [1] ELSE [] END | \n",
    "    MERGE (book2:Book{sequence:2}) \n",
    "    ON CREATE SET book2.name = \"Clash of kings\" \n",
    "    MERGE (person)-[:APPEARED_IN]->(book2))\n",
    "FOREACH\n",
    "  (ignoreMe IN CASE WHEN row.SoS = \"1\" THEN [1] ELSE [] END | \n",
    "    MERGE (book3:Book{sequence:3}) \n",
    "    ON CREATE SET book3.name = \"Storm of swords\" \n",
    "    MERGE (person)-[:APPEARED_IN]->(book3))\n",
    "FOREACH\n",
    "  (ignoreMe IN CASE WHEN row.FfC = \"1\" THEN [1] ELSE [] END | \n",
    "    MERGE (book4:Book{sequence:4}) \n",
    "    ON CREATE SET book4.name = \"Feast for crows\" \n",
    "    MERGE (person)-[:APPEARED_IN]->(book4))\n",
    "FOREACH\n",
    "  (ignoreMe IN CASE WHEN row.DwD = \"1\" THEN [1] ELSE [] END | \n",
    "    MERGE (book5:Book{sequence:5}) \n",
    "    ON CREATE SET book5.name = \"Dance with dragons\" \n",
    "    MERGE (person)-[:APPEARED_IN]->(book5))\n",
    "FOREACH\n",
    "  (ignoreMe IN CASE WHEN row.`Book of Death` is not null THEN [1] ELSE [] END | \n",
    "    MERGE (book:Book{sequence:toInt(row.`Book of Death`)}) \n",
    "    MERGE (person)-[:DIED_IN]->(book))\n",
    "'''"
   ]
  },
  {
   "cell_type": "code",
   "execution_count": null,
   "metadata": {},
   "outputs": [],
   "source": [
    "query='''\n",
    "LOAD CSV WITH HEADERS FROM \n",
    "\"https://raw.githubusercontent.com/tomasonjo/neo4j-game-of-thrones/master/data/character-predictions.csv\" as row\n",
    "MERGE (p:Person{name:row.name})\n",
    "// set properties on the person node\n",
    "SET p.title = row.title,\n",
    "    p.death_year = toINT(row.DateoFdeath),\n",
    "    p.birth_year = toINT(row.dateOfBirth),\n",
    "    p.age = toINT(row.age),\n",
    "    p.gender = case when row.male = \"1\" then \"male\" else \"female\" end\n",
    "// doing the foreach trick to skip null values\n",
    "FOREACH\n",
    "  (ignoreMe IN CASE WHEN row.mother is not null THEN [1] ELSE [] END |\n",
    "    MERGE (mother:Person{name:row.mother})\n",
    "    MERGE (p)-[:RELATED_TO{name:\"mother\"}]->(mother)\n",
    ")\n",
    "FOREACH\n",
    "  (ignoreMe IN CASE WHEN row.spouse is not null THEN [1] ELSE [] END |\n",
    "    MERGE (spouse:Person{name:row.spouse})\n",
    "    MERGE (p)-[:RELATED_TO{name:\"spouse\"}]->(spouse)\n",
    ")\n",
    "FOREACH\n",
    "  (ignoreMe IN CASE WHEN row.father is not null THEN [1] ELSE [] END |\n",
    "    MERGE (father:Person{name:row.father})\n",
    "    MERGE (p)-[:RELATED_TO{name:\"father\"}]->(father)\n",
    ")\n",
    "FOREACH\n",
    "  (ignoreMe IN CASE WHEN row.heir is not null THEN [1] ELSE [] END |\n",
    "    MERGE (heir:Person{name:row.heir})\n",
    "    MERGE (p)-[:RELATED_TO{name:\"heir\"}]->(heir)\n",
    ")\n",
    "// we remove \"House \" from the value for better linking of data - this didn't run in the original, but I think it should now - there was a bug in the replace\n",
    "FOREACH \n",
    "  (ignoreMe IN CASE WHEN row.house is not null THEN [1] ELSE [] END | \n",
    "    MERGE (house:House{name:replace(row.house,\"House \",\"\")}) \n",
    "    MERGE (p)-[:BELONGS_TO]->(house) \n",
    ")\n",
    "'''\n",
    "GoTGraph.run(query)"
   ]
  },
  {
   "cell_type": "code",
   "execution_count": null,
   "metadata": {},
   "outputs": [],
   "source": [
    "query='''\n",
    "    LOAD CSV WITH HEADERS FROM \n",
    "    \"https://raw.githubusercontent.com/tomasonjo/neo4j-game-of-thrones/master/data/character-predictions.csv\" as row\n",
    "    // match person\n",
    "    MERGE (p:Person{name:row.name})\n",
    "    // doing the foreach trick... we lower row.culture for better linking\n",
    "    FOREACH\n",
    "      (ignoreMe IN CASE WHEN row.culture is not null THEN [1] ELSE [] END |\n",
    "        MERGE (culture:Culture{name:lower(row.culture)})\n",
    "        MERGE (p)-[:MEMBER_OF_CULTURE]->(culture)\n",
    "    )\n",
    "    FOREACH\n",
    "      (ignoreMe IN CASE WHEN row.book1 = \"1\" THEN [1] ELSE [] END |\n",
    "        MERGE (book:Book{sequence:1})\n",
    "        MERGE (p)-[:APPEARED_IN]->(book)\n",
    "    )\n",
    "    FOREACH\n",
    "      (ignoreMe IN CASE WHEN row.book2 = \"1\" THEN [1] ELSE [] END |\n",
    "        MERGE (book:Book{sequence:2})\n",
    "        MERGE (p)-[:APPEARED_IN]->(book)\n",
    "    )\n",
    "    FOREACH\n",
    "      (ignoreMe IN CASE WHEN row.book3 = \"1\" THEN [1] ELSE [] END |\n",
    "        MERGE (book:Book{sequence:3})\n",
    "        MERGE (p)-[:APPEARED_IN]->(book)\n",
    "    )\n",
    "    FOREACH\n",
    "      (ignoreMe IN CASE WHEN row.book4 = \"1\" THEN [1] ELSE [] END |\n",
    "        MERGE (book:Book{sequence:4})\n",
    "        MERGE (p)-[:APPEARED_IN]->(book)\n",
    "    )\n",
    "    FOREACH\n",
    "      (ignoreMe IN CASE WHEN row.book5 = \"1\" THEN [1] ELSE [] END |\n",
    "        MERGE (book:Book{sequence:5})\n",
    "        MERGE (p)-[:APPEARED_IN]->(book)\n",
    "    )\n",
    "'''\n",
    "GoTGraph.run(query)"
   ]
  },
  {
   "cell_type": "code",
   "execution_count": null,
   "metadata": {},
   "outputs": [],
   "source": [
    "query = '''\n",
    "    LOAD CSV WITH HEADERS FROM \"https://raw.githubusercontent.com/tomasonjo/neo4j-game-of-thrones/master/data/character-predictions.csv\" as row\n",
    "    // do CASE statements\n",
    "    with row,\n",
    "    case when row.isAlive = \"0\" THEN [1] ELSE [] END as dead_person,\n",
    "    case when row.isAliveMother = \"0\" THEN [1] ELSE [] END as dead_mother,\n",
    "    case when row.isAliveFather = \"0\" THEN [1] ELSE [] END as dead_father,\n",
    "    case when row.isAliveHeir = \"0\" THEN [1] ELSE [] END as dead_heir,\n",
    "    case when row.isAliveSpouse = \"0\" THEN [1] ELSE [] END as dead_spouse\n",
    "    // MATCH all the persons\n",
    "    MATCH (p:Person{name:row.name})\n",
    "    // We use optional match so that it doesnt stop the query if not found\n",
    "    OPTIONAL MATCH (mother:Person{name:row.mother})\n",
    "    OPTIONAL MATCH (father:Person{name:row.father})\n",
    "    OPTIONAL MATCH (heir:Person{name:row.heir})\n",
    "    OPTIONAL MATCH (spouse:Spouse{name:row.spouse})\n",
    "    // Set the label of the dead persons\n",
    "    FOREACH (d in dead_person | set p:Dead)\n",
    "    FOREACH (d in dead_mother | set mother:Dead)\n",
    "    FOREACH (d in dead_father | set father:Dead)\n",
    "    FOREACH (d in dead_heir | set heir:Dead)\n",
    "    FOREACH (d in dead_spouse | set spouse:Dead)\n",
    "'''\n",
    "GoTGraph.run(query)\n"
   ]
  },
  {
   "cell_type": "code",
   "execution_count": null,
   "metadata": {},
   "outputs": [],
   "source": [
    "query='''\n",
    "MATCH (p:Person) where exists (p.death_year)\n",
    "SET p:Dead\n",
    "'''\n",
    "\n",
    "GoTGraph.run(query)"
   ]
  },
  {
   "cell_type": "code",
   "execution_count": null,
   "metadata": {},
   "outputs": [],
   "source": [
    "query='''\n",
    "MATCH (p:Person)-[:DEFENDER_KING|ATTACKER_KING]-()\n",
    "SET p:King\n",
    "'''\n",
    "\n",
    "GoTGraph.run(query)"
   ]
  },
  {
   "cell_type": "code",
   "execution_count": null,
   "metadata": {},
   "outputs": [],
   "source": [
    "query='''\n",
    "MATCH (p:Person) where lower(p.title) contains \"king\"\n",
    "SET p:King\n",
    "'''\n",
    "\n",
    "GoTGraph.run(query)"
   ]
  },
  {
   "cell_type": "code",
   "execution_count": null,
   "metadata": {},
   "outputs": [],
   "source": [
    "query='''\n",
    " MATCH (p:Person) where p.title = \"Ser\"\n",
    "SET p:Knight\n",
    "'''\n",
    "\n",
    "GoTGraph.run(query)"
   ]
  },
  {
   "cell_type": "code",
   "execution_count": null,
   "metadata": {},
   "outputs": [],
   "source": [
    "query='''\n",
    "LOAD CSV WITH HEADERS FROM \"https://raw.githubusercontent.com/mathbeveridge/asoiaf/master/data/asoiaf-book1-edges.csv\" AS row\n",
    "MERGE(src:Person  {name:replace(replace(replace(replace(replace(replace(replace(replace(replace(row.Source,\"-\",\" \"),\"Aemon Targaryen (Maester Aemon)\",\"Aemon Targaryen (son of Maekar I)\"),\"Thoros of Myr\",\"Thoros\"),'Jaqen Hghar',\"Jaqen H'ghar\"),'Lommy Greenhands','Lommy'),\"Rattleshirt\",\"Lord of Bones\"),\"Arstan\",\"Barristan Selmy\"),\"Garin (orphan)\",'Garin (Orphan)'),'Hareth (Moles Town)','Hareth (Mole\\'s Town')})\n",
    "MERGE(tgt:Person  {name:replace(replace(replace(replace(replace(replace(replace(replace(replace(row.Target,\"-\",\" \"),\"Aemon Targaryen (Maester Aemon)\",\"Aemon Targaryen (son of Maekar I)\"),\"Thoros of Myr\",\"Thoros\"),'Jaqen Hghar',\"Jaqen H'ghar\"),'Lommy Greenhands','Lommy'),\"Rattleshirt\",\"Lord of Bones\"),\"Arstan\",\"Barristan Selmy\"),\"Garin (orphan)\",'Garin (Orphan)'),'Hareth (Moles Town)','Hareth (Mole\\'s Town')})    // relationship for the book\n",
    "  MERGE (src)-[r:INTERACTS1]->(tgt)\n",
    "  ON CREATE SET r.weight = toInt(row.weight), r.book=1\n",
    "'''\n",
    "\n",
    "GoTGraph.run(query)"
   ]
  },
  {
   "cell_type": "code",
   "execution_count": null,
   "metadata": {},
   "outputs": [],
   "source": [
    "query='''\n",
    "LOAD CSV WITH HEADERS FROM \"https://raw.githubusercontent.com/mathbeveridge/asoiaf/master/data/asoiaf-book2-edges.csv\" AS row\n",
    "MERGE(src:Person  {name:replace(replace(replace(replace(replace(replace(replace(replace(replace(row.Source,\"-\",\" \"),\"Aemon Targaryen (Maester Aemon)\",\"Aemon Targaryen (son of Maekar I)\"),\"Thoros of Myr\",\"Thoros\"),'Jaqen Hghar',\"Jaqen H'ghar\"),'Lommy Greenhands','Lommy'),\"Rattleshirt\",\"Lord of Bones\"),\"Arstan\",\"Barristan Selmy\"),\"Garin (orphan)\",'Garin (Orphan)'),'Hareth (Moles Town)','Hareth (Mole\\'s Town')})\n",
    "MERGE(tgt:Person  {name:replace(replace(replace(replace(replace(replace(replace(replace(replace(row.Target,\"-\",\" \"),\"Aemon Targaryen (Maester Aemon)\",\"Aemon Targaryen (son of Maekar I)\"),\"Thoros of Myr\",\"Thoros\"),'Jaqen Hghar',\"Jaqen H'ghar\"),'Lommy Greenhands','Lommy'),\"Rattleshirt\",\"Lord of Bones\"),\"Arstan\",\"Barristan Selmy\"),\"Garin (orphan)\",'Garin (Orphan)'),'Hareth (Moles Town)','Hareth (Mole\\'s Town')})    // relationship for the book\n",
    "  MERGE (src)-[r:INTERACTS2]->(tgt)\n",
    "  ON CREATE SET r.weight = toInt(row.weight), r.book=2\n",
    "'''\n",
    "\n",
    "GoTGraph.run(query)"
   ]
  },
  {
   "cell_type": "code",
   "execution_count": null,
   "metadata": {},
   "outputs": [],
   "source": [
    "query='''\n",
    "LOAD CSV WITH HEADERS FROM \"https://raw.githubusercontent.com/mathbeveridge/asoiaf/master/data/asoiaf-book3-edges.csv\" AS row\n",
    "MERGE(src:Person  {name:replace(replace(replace(replace(replace(replace(replace(replace(replace(row.Source,\"-\",\" \"),\"Aemon Targaryen (Maester Aemon)\",\"Aemon Targaryen (son of Maekar I)\"),\"Thoros of Myr\",\"Thoros\"),'Jaqen Hghar',\"Jaqen H'ghar\"),'Lommy Greenhands','Lommy'),\"Rattleshirt\",\"Lord of Bones\"),\"Arstan\",\"Barristan Selmy\"),\"Garin (orphan)\",'Garin (Orphan)'),'Hareth (Moles Town)','Hareth (Mole\\'s Town')})\n",
    "MERGE(tgt:Person  {name:replace(replace(replace(replace(replace(replace(replace(replace(replace(row.Target,\"-\",\" \"),\"Aemon Targaryen (Maester Aemon)\",\"Aemon Targaryen (son of Maekar I)\"),\"Thoros of Myr\",\"Thoros\"),'Jaqen Hghar',\"Jaqen H'ghar\"),'Lommy Greenhands','Lommy'),\"Rattleshirt\",\"Lord of Bones\"),\"Arstan\",\"Barristan Selmy\"),\"Garin (orphan)\",'Garin (Orphan)'),'Hareth (Moles Town)','Hareth (Mole\\'s Town')})    // relationship for the book\n",
    "  MERGE (src)-[r:INTERACTS3]->(tgt)\n",
    "  ON CREATE SET r.weight = toInt(row.weight), r.book=3\n",
    "'''\n",
    "\n",
    "GoTGraph.run(query)"
   ]
  },
  {
   "cell_type": "code",
   "execution_count": null,
   "metadata": {},
   "outputs": [],
   "source": [
    "query='''\n",
    "LOAD CSV WITH HEADERS FROM \"https://raw.githubusercontent.com/mathbeveridge/asoiaf/master/data/asoiaf-book4-edges.csv\" AS row\n",
    "MERGE(src:Person  {name:replace(replace(replace(replace(replace(replace(replace(replace(replace(row.Source,\"-\",\" \"),\"Aemon Targaryen (Maester Aemon)\",\"Aemon Targaryen (son of Maekar I)\"),\"Thoros of Myr\",\"Thoros\"),'Jaqen Hghar',\"Jaqen H'ghar\"),'Lommy Greenhands','Lommy'),\"Rattleshirt\",\"Lord of Bones\"),\"Arstan\",\"Barristan Selmy\"),\"Garin (orphan)\",'Garin (Orphan)'),'Hareth (Moles Town)','Hareth (Mole\\'s Town')})\n",
    "MERGE(tgt:Person  {name:replace(replace(replace(replace(replace(replace(replace(replace(replace(row.Target,\"-\",\" \"),\"Aemon Targaryen (Maester Aemon)\",\"Aemon Targaryen (son of Maekar I)\"),\"Thoros of Myr\",\"Thoros\"),'Jaqen Hghar',\"Jaqen H'ghar\"),'Lommy Greenhands','Lommy'),\"Rattleshirt\",\"Lord of Bones\"),\"Arstan\",\"Barristan Selmy\"),\"Garin (orphan)\",'Garin (Orphan)'),'Hareth (Moles Town)','Hareth (Mole\\'s Town')})    // relationship for the book\n",
    "  MERGE (src)-[r:INTERACTS4]->(tgt)\n",
    "  ON CREATE SET r.weight = toInt(row.weight), r.book=4\n",
    "'''\n",
    "\n",
    "GoTGraph.run(query)"
   ]
  },
  {
   "cell_type": "code",
   "execution_count": null,
   "metadata": {},
   "outputs": [],
   "source": [
    "query='''\n",
    "LOAD CSV WITH HEADERS FROM \"https://raw.githubusercontent.com/mathbeveridge/asoiaf/master/data/asoiaf-book5-edges.csv\" AS row\n",
    "MERGE(src:Person  {name:replace(replace(replace(replace(replace(replace(replace(replace(replace(row.Source,\"-\",\" \"),\"Aemon Targaryen (Maester Aemon)\",\"Aemon Targaryen (son of Maekar I)\"),\"Thoros of Myr\",\"Thoros\"),'Jaqen Hghar',\"Jaqen H'ghar\"),'Lommy Greenhands','Lommy'),\"Rattleshirt\",\"Lord of Bones\"),\"Arstan\",\"Barristan Selmy\"),\"Garin (orphan)\",'Garin (Orphan)'),'Hareth (Moles Town)','Hareth (Mole\\'s Town')})\n",
    "MERGE(tgt:Person  {name:replace(replace(replace(replace(replace(replace(replace(replace(replace(row.Target,\"-\",\" \"),\"Aemon Targaryen (Maester Aemon)\",\"Aemon Targaryen (son of Maekar I)\"),\"Thoros of Myr\",\"Thoros\"),'Jaqen Hghar',\"Jaqen H'ghar\"),'Lommy Greenhands','Lommy'),\"Rattleshirt\",\"Lord of Bones\"),\"Arstan\",\"Barristan Selmy\"),\"Garin (orphan)\",'Garin (Orphan)'),'Hareth (Moles Town)','Hareth (Mole\\'s Town')})    // relationship for the book\n",
    "  MERGE (src)-[r:INTERACTS5]->(tgt)\n",
    "  ON CREATE SET r.weight = toInt(row.weight), r.book=5\n",
    "'''\n",
    "\n",
    "GoTGraph.run(query)"
   ]
  },
  {
   "cell_type": "code",
   "execution_count": null,
   "metadata": {},
   "outputs": [],
   "source": []
  },
  {
   "cell_type": "code",
   "execution_count": null,
   "metadata": {},
   "outputs": [],
   "source": []
  },
  {
   "cell_type": "code",
   "execution_count": null,
   "metadata": {},
   "outputs": [],
   "source": []
  },
  {
   "cell_type": "code",
   "execution_count": null,
   "metadata": {},
   "outputs": [],
   "source": []
  }
 ],
 "metadata": {
  "kernelspec": {
   "display_name": "Python 3",
   "language": "python",
   "name": "python3"
  },
  "language_info": {
   "codemirror_mode": {
    "name": "ipython",
    "version": 3
   },
   "file_extension": ".py",
   "mimetype": "text/x-python",
   "name": "python",
   "nbconvert_exporter": "python",
   "pygments_lexer": "ipython3",
   "version": "3.7.1"
  }
 },
 "nbformat": 4,
 "nbformat_minor": 2
}
