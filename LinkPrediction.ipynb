{
 "cells": [
  {
   "cell_type": "markdown",
   "metadata": {},
   "source": [
    "# Link Prediction Toy Problem - Neo4J & SciKit-Learn\n",
    "\n",
    "This notebook is a scratch space to reimplement the graph based machine learning toy problem from **Graph Algorithms** chapter 8. This excercise demonstrations how to use graph data to improve machine learning algorithms, and how to connect a graph database (Neo4J) with Python's machine learning libraries (Spark and Scikit-Learn).\n",
    "\n",
    "## Background\n",
    "\n",
    "### Feature extraction: \n",
    "*Feature extraction* is how we distill large volumes of data and attributes down into a set that is representative and tractable. We derive numerical features to represent characteristics or patterns in the graph. Feature extraction is used when the data is difficult to model directly due to size, format, etc.\n",
    "\n",
    "Graph algorithms can be used for *connected* feature extraction:\n",
    "-  *graph embeddings* represent nodes and relationships as feature vectors. They allow us to represent graphs (or subgraphs) in a numerical format ready for ML tasks. Useful for unsupervised ML algorithms, data exploration, dimensionality reduction, \n",
    "-  *graphy features* are connection related metrics about the graph. \n",
    "    -  number of relationships coming in and out of nodes\n",
    "    -  count of potential triangles\n",
    "    -  common neighbors\n",
    "    -  feature engineering: if we know something is interesting or relevant, we can create that feature or attribute in the graph. You can use graph traversal to find specific paths, look at labels, attributes, counts, and inferred relationships. For example, something being 4 hops away might be indicative of something, so a count of nodes 4 hops away can be added as a node attribute.\n",
    "-  *graph algorithm features* these are features that describe the general graph structure, but not the exact pattern.\n",
    "    -  community detection algorithms (eg Louvain) \n",
    "    -  centrality algorithms (PageRank)\n",
    "\n",
    "### Feature selection:\n",
    "*Feature selection* is choosing the right subset of extracted features that are important or influential in predicting the target goal.  It's important to eliminate unnecessary features to limit over fitting.\n",
    "\n",
    "We can use graph algorithms to evaluate *connected features* to evaluate their importance for feature selection - eg. PageRank to prioritize features with the most influence. We can also identify features with high co-occurence for model tuning via feature reduction.\n",
    "\n",
    "## Link Prediction\n",
    "*Link prediction* is a way of estimating how likely a relationship is to form in the future, or whether is should already be in the graph but is missing due to incomplete data. This is valuable because networks are dynamic and can grow fairly quickly, and can be used for product recommendations, drug targeting, and predicting social relationships.\n",
    "\n",
    "Connected features from graphs are often used for link predictions using:\n",
    "-  graphy features (node proximity)\n",
    "-  centrality and community detection algorithms"
   ]
  },
  {
   "cell_type": "markdown",
   "metadata": {},
   "source": [
    "## Setting up the co-authorship graph\n",
    "\n",
    "In order to build the ML classifier algorithms, we need to start from a graph. For this example, we'll be using the citation network dataset published by Tang et al. for *ArnetMiner* and available at aminer.org\n",
    "\n",
    "### configuration and set up\n",
    "These steps get you the raw data, and reconfigures your database to use the necessary libraries.\n",
    "-  Download the citation dataset: https://aminer.org/citation\n",
    "-  Create a new (empty) graph in Neo4J desktop\n",
    "-  Update the graph settings: go to your project, add a graph (mine is called CoAuthorGraph) and select \"manage\" from the menu\n",
    "    -  enable graph algorithms by selecting install and restart\n",
    "    -  enable APOC by going to plugins, installing APIC, and adding it to your project\n",
    "    -  enable APOC data imports by going to settings and pasting the following two lines at the end of the file: \n",
    "    \n",
    "    `apoc.import.file.enabled=true`\n",
    "    \n",
    "    `apoc.import.file.use_neo4j_config=true`\n",
    "    \n",
    "-  Add your downloaded files to the import directory: in Neo4J desktop, in your active database, select \"open folder\" and choose import. Extract the four json files from the aminer download to this directory.\n",
    "\n",
    "### queries to load the data via apoc\n",
    "\n",
    "Launch the Neo4J browser and use the Cypher query window to run these steps.\n",
    "\n",
    "Set database constraints to force authors and papers to be unique\n",
    "\n",
    "```\n",
    "CREATE CONSTRAINT ON (article:Article)\n",
    "ASSERT article.index IS UNIQUE;\n",
    "\n",
    "CREATE CONSTRAINT ON (author:Author)\n",
    "ASSERT author.name IS UNIQUE;\n",
    "```\n",
    "Load the data in directly via APOC:\n",
    "```\n",
    "CALL apoc.periodic.iterate(\n",
    "  'UNWIND [\"dblp-ref-0.json\",\"dblp-ref-1.json\",\"dblp-ref-2.json\",\"dblp-ref-3.json\"] AS file\n",
    "   CALL apoc.load.json(\"file:///\" + file)\n",
    "   YIELD value\n",
    "   WHERE value.venue IN [\"Lecture Notes in Computer Science\", \"Communications of The ACM\",\n",
    "                         \"international conference on software engineering\",\n",
    "                         \"advances in computing and communications\"]\n",
    "   return value',\n",
    "  'MERGE (a:Article {index:value.id})\n",
    "   ON CREATE SET a += apoc.map.clean(value,[\"id\",\"authors\",\"references\"],[0])\n",
    "   WITH a,value.authors as authors\n",
    "   UNWIND authors as author\n",
    "   MERGE (b:Author{name:author})\n",
    "   MERGE (b)<-[:AUTHOR]-(a)'\n",
    ", {batchSize: 10000, iterateList: true});\n",
    "```\n",
    "\n",
    "All work after this will be done via Python & Py2Neo try to keep the queries and code in a single document."
   ]
  },
  {
   "cell_type": "markdown",
   "metadata": {},
   "source": [
    "### Import necessary libraries"
   ]
  },
  {
   "cell_type": "code",
   "execution_count": 383,
   "metadata": {},
   "outputs": [],
   "source": [
    "from py2neo import Graph\n",
    "import pandas as pd\n",
    "import matplotlib.pyplot as plt\n",
    "from sklearn.utils import resample\n",
    "from sklearn.ensemble import RandomForestClassifier\n",
    "import numpy as np\n",
    "from sklearn.metrics import accuracy_score, confusion_matrix, roc_curve, roc_auc_score, precision_recall_curve, precision_score, recall_score, confusion_matrix\n",
    "import warnings\n",
    "warnings.filterwarnings('ignore')"
   ]
  },
  {
   "cell_type": "markdown",
   "metadata": {},
   "source": [
    "### Setup the Graph Connector"
   ]
  },
  {
   "cell_type": "code",
   "execution_count": 452,
   "metadata": {},
   "outputs": [],
   "source": [
    "from py2neo import Graph\n",
    "ngViVMO_lS27Lg5WNFG0yRtBlnEr-Ty73ApIve2t4fQ\n",
    "uri = 'bolt://localhost:7687'\n",
    "coauthorGraph=Graph(uri, auth=(\"neo4j\",\"password\"))"
   ]
  },
  {
   "cell_type": "markdown",
   "metadata": {},
   "source": [
    "### Create a co-author relationship\n",
    "the first thing this query does is find all the papers with multiple authors (with MATCH) and sorts the results on the year of the paper publication.\n",
    "WITH takes all author pairs and their shared papers, and COLLECTS the first year where two authors shared a paperto create the \"year\" variable and calculates the COUNT of papers per author pair is the collaborations variable\n",
    "\n",
    "MERGE makes a new relationship called CO_AUTHOR between the author pairs, and assigns the year and collaborations variables as properties. "
   ]
  },
  {
   "cell_type": "code",
   "execution_count": 29,
   "metadata": {},
   "outputs": [],
   "source": [
    "query='''\n",
    "MATCH (a1)<-[:AUTHOR]-(paper)-[:AUTHOR]->(a2:Author)\n",
    "WITH a1, a2, paper\n",
    "ORDER BY a1, paper.year\n",
    "WITH a1, a2, collect(paper)[0].year as year, count(*) as collaborations\n",
    "MERGE (a1)-[coauthor:CO_AUTHOR {year: year}]-(a2)\n",
    "SET coauthor.collaborations=collaborations;\n",
    "'''"
   ]
  },
  {
   "cell_type": "code",
   "execution_count": 18,
   "metadata": {},
   "outputs": [],
   "source": [
    "#run the query on the graph\n",
    "coauthorGraph.run(query);"
   ]
  },
  {
   "cell_type": "markdown",
   "metadata": {},
   "source": [
    "## Creating balanced training and testing sets\n",
    "The ultimate goal in this example is to predict future coauthor relationships, so in order to evaluate our model, we need to start with a train/test split that evaluates our ability to predict the future - meaning the data should be split on year of publication."
   ]
  },
  {
   "cell_type": "code",
   "execution_count": 454,
   "metadata": {},
   "outputs": [],
   "source": [
    "# evaluate when the articles in the dataset were published\n",
    "query='''\n",
    "MATCH (a:Article)\n",
    "RETURN a.year as year, count(*) as total_pubs\n",
    "ORDER BY year\n",
    "'''\n",
    "years = coauthorGraph.run(query).data() #to_data_frame() doesn't work\n",
    "years = pd.DataFrame(years)"
   ]
  },
  {
   "cell_type": "code",
   "execution_count": 37,
   "metadata": {},
   "outputs": [
    {
     "data": {
      "image/png": "[encoded data removed]",
      "text/plain": [
       "<Figure size 1080x576 with 1 Axes>"
      ]
     },
     "metadata": {
      "needs_background": "light"
     },
     "output_type": "display_data"
    }
   ],
   "source": [
    "years.plot(kind='bar', x='year', y='total_pubs',figsize=(15,8))\n",
    "plt.tight_layout()"
   ]
  },
  {
   "cell_type": "markdown",
   "metadata": {},
   "source": [
    "Visually, we can split the data around 2006 to get a reasonable 60/40 split. We can also evaluate this by making the calculation in pandas..."
   ]
  },
  {
   "cell_type": "code",
   "execution_count": 53,
   "metadata": {},
   "outputs": [
    {
     "data": {
      "text/html": [
       "<div>\n",
       "<style scoped>\n",
       "    .dataframe tbody tr th:only-of-type {\n",
       "        vertical-align: middle;\n",
       "    }\n",
       "\n",
       "    .dataframe tbody tr th {\n",
       "        vertical-align: top;\n",
       "    }\n",
       "\n",
       "    .dataframe thead th {\n",
       "        text-align: right;\n",
       "    }\n",
       "</style>\n",
       "<table border=\"1\" class=\"dataframe\">\n",
       "  <thead>\n",
       "    <tr style=\"text-align: right;\">\n",
       "      <th></th>\n",
       "      <th>total_pubs</th>\n",
       "      <th>year</th>\n",
       "      <th>pubs_to_date</th>\n",
       "      <th>pct_pubs_to_date</th>\n",
       "    </tr>\n",
       "  </thead>\n",
       "  <tbody>\n",
       "    <tr>\n",
       "      <th>48</th>\n",
       "      <td>7536</td>\n",
       "      <td>2006</td>\n",
       "      <td>38433</td>\n",
       "      <td>0.739722</td>\n",
       "    </tr>\n",
       "  </tbody>\n",
       "</table>\n",
       "</div>"
      ],
      "text/plain": [
       "    total_pubs  year  pubs_to_date  pct_pubs_to_date\n",
       "48        7536  2006         38433          0.739722"
      ]
     },
     "execution_count": 53,
     "metadata": {},
     "output_type": "execute_result"
    }
   ],
   "source": [
    "years['pubs_to_date']=years['total_pubs'].cumsum()\n",
    "total_pubs=years['total_pubs'].sum()\n",
    "years['pct_pubs_to_date']=years['pubs_to_date']/total_pubs\n",
    "years[years['pct_pubs_to_date'].gt(.6)].iloc[[0]]"
   ]
  },
  {
   "cell_type": "markdown",
   "metadata": {},
   "source": [
    "Now, we need to create the split in the graph - this can be used for calculating our graphy features and graph algorithm features, and allows us to split the graph itself into test and train. We can use the same co-author query (that created the co-author relationship) as before, but just restrict it based on year of publication."
   ]
  },
  {
   "cell_type": "code",
   "execution_count": 54,
   "metadata": {},
   "outputs": [],
   "source": [
    "# \"early\" coauthors\n",
    "query='''\n",
    "MATCH (a1)<-[:AUTHOR]-(paper)-[:AUTHOR]->(a2:Author)\n",
    "WITH a1, a2, paper\n",
    "ORDER BY a1, paper.year\n",
    "WITH a1, a2, collect(paper)[0].year as year, count(*) as collaborations\n",
    "WHERE year < 2006\n",
    "MERGE (a1)-[coauthor:CO_AUTHOR_EARLY {year: year}]-(a2)\n",
    "SET coauthor.collaborations=collaborations;\n",
    "'''\n",
    "coauthorGraph.run(query);"
   ]
  },
  {
   "cell_type": "code",
   "execution_count": 55,
   "metadata": {},
   "outputs": [],
   "source": [
    "# \"late\" coauthors\n",
    "query='''\n",
    "MATCH (a1)<-[:AUTHOR]-(paper)-[:AUTHOR]->(a2:Author)\n",
    "WITH a1, a2, paper\n",
    "ORDER BY a1, paper.year\n",
    "WITH a1, a2, collect(paper)[0].year as year, count(*) as collaborations\n",
    "WHERE year >= 2006\n",
    "MERGE (a1)-[coauthor:CO_AUTHOR_LATE {year: year}]-(a2)\n",
    "SET coauthor.collaborations=collaborations;\n",
    "'''\n",
    "coauthorGraph.run(query);"
   ]
  },
  {
   "cell_type": "code",
   "execution_count": 56,
   "metadata": {},
   "outputs": [
    {
     "name": "stdout",
     "output_type": "stream",
     "text": [
      "count train co-authors:  [{'count': 81096}]\n",
      "count test co-authors:  [{'count': 74128}]\n"
     ]
    }
   ],
   "source": [
    "# evaluate the results\n",
    "# \"early\" coauthors\n",
    "query='''\n",
    "MATCH ()-[:CO_AUTHOR_EARLY]->()\n",
    "RETURN count(*) as count\n",
    "'''\n",
    "num_early = coauthorGraph.run(query).data()\n",
    "print(\"count train co-authors: \",num_early)\n",
    "\n",
    "query='''\n",
    "MATCH ()-[:CO_AUTHOR_LATE]->()\n",
    "RETURN count(*) as count\n",
    "'''\n",
    "num_late = coauthorGraph.run(query).data()\n",
    "print(\"count test co-authors: \", num_late)"
   ]
  },
  {
   "cell_type": "markdown",
   "metadata": {},
   "source": [
    "### balancing the data - negative examples\n",
    "In most real world networks, the numer of examples of pairs of entities that do not have a relationship is far greater than the number that do. In this graph we have 45,018 authors - so there are potentially over a billion relationships, but only 81k are true - meaning that 99.9% of authors don't have relationships. If we use the raw data, we would have a severe class imbalance - we could always predict there's no relationship and have very high accuracy.\n",
    "\n",
    "To fix this, we need to identify the negative relationships (find pairs of nodes between 2 and 3 hops apart) and downsample those so we have equal numbers of positive and negative edges.\n",
    "\n",
    "**Note** - *we are also going to use Cypher queries to create the training data directly here*, by returning node ids and 0/1 (true, false) values which can be used by ML algorithms"
   ]
  },
  {
   "cell_type": "code",
   "execution_count": 62,
   "metadata": {},
   "outputs": [
    {
     "data": {
      "text/plain": [
       "4389478"
      ]
     },
     "execution_count": 62,
     "metadata": {},
     "output_type": "execute_result"
    }
   ],
   "source": [
    "# start by finding the negative edges - nodes (pairs of authors) who have no relationship at a distance of 2 or 3 hops out\n",
    "query='''\n",
    "MATCH(author:Author)\n",
    "WHERE (author)-[:CO_AUTHOR_EARLY]-()\n",
    "MATCH (author)-[:CO_AUTHOR_EARLY*2..3]-(other)\n",
    "WHERE NOT ((author)-[:CO_AUTHOR_EARLY]-(other))\n",
    "RETURN id(author) as node1, id(other) as node2, 0 as label\n",
    "''' # note '0 as label' indicates no link\n",
    "training_no_link = coauthorGraph.run(query).data()\n",
    "training_no_link=pd.DataFrame(training_no_link)\n",
    "len(training_no_link)"
   ]
  },
  {
   "cell_type": "code",
   "execution_count": 71,
   "metadata": {},
   "outputs": [
    {
     "data": {
      "text/plain": [
       "81096"
      ]
     },
     "execution_count": 71,
     "metadata": {},
     "output_type": "execute_result"
    }
   ],
   "source": [
    "# and now a query for the positive edges (this one runs much faster)\n",
    "query='''\n",
    "MATCH(author:Author)-[:CO_AUTHOR_EARLY]->(other:Author)\n",
    "RETURN id(author) as node1, id(other) as node2, 1 as label\n",
    "''' \n",
    "training_existing_links = coauthorGraph.run(query).data()\n",
    "training_existing_links=pd.DataFrame(training_existing_links)\n",
    "len(training_existing_links)"
   ]
  },
  {
   "cell_type": "code",
   "execution_count": 72,
   "metadata": {},
   "outputs": [],
   "source": [
    "#clean up the data - drop duplicates\n",
    "training_no_link=training_no_link.drop_duplicates()\n",
    "training_existing_links=training_existing_links.drop_duplicates()"
   ]
  },
  {
   "cell_type": "code",
   "execution_count": 68,
   "metadata": {},
   "outputs": [],
   "source": [
    "# now we need to downsample the majority class - I'm just going to use SKLearn's resample function\n",
    "training_no_link_downsampled=resample(training_no_link,replace=False,n_samples=len(training_existing_links),random_state=42)"
   ]
  },
  {
   "cell_type": "code",
   "execution_count": 80,
   "metadata": {},
   "outputs": [],
   "source": [
    "# merge the data back together to create the training dataset\n",
    "training_df=training_existing_links.append(training_no_link_downsampled)"
   ]
  },
  {
   "cell_type": "code",
   "execution_count": 84,
   "metadata": {},
   "outputs": [],
   "source": [
    "#now we do the same to make a test dataframe\n",
    "#negative edges\n",
    "query='''\n",
    "MATCH(author:Author)\n",
    "WHERE (author)-[:CO_AUTHOR_LATE]-()\n",
    "MATCH (author)-[:CO_AUTHOR_LATE*2..3]-(other)\n",
    "WHERE NOT ((author)-[:CO_AUTHOR_LATE]-(other))\n",
    "RETURN id(author) as node1, id(other) as node2, 0 as label\n",
    "''' \n",
    "testing_no_link = coauthorGraph.run(query).data()\n",
    "testing_no_link=pd.DataFrame(testing_no_link)\n",
    "\n",
    "# and now a query for the positive edges (this one runs much faster)\n",
    "query='''\n",
    "MATCH(author:Author)-[:CO_AUTHOR_LATE]->(other:Author)\n",
    "RETURN id(author) as node1, id(other) as node2, 1 as label\n",
    "''' \n",
    "testing_existing_links = coauthorGraph.run(query).data()\n",
    "testing_existing_links=pd.DataFrame(testing_existing_links)\n",
    "\n",
    "#drop duplicates\n",
    "testing_no_link=testing_no_link.drop_duplicates()\n",
    "testing_existing_links=testing_existing_links.drop_duplicates()\n",
    "\n",
    "#resample\n",
    "testing_no_link_downsampled=resample(testing_no_link,replace=False,n_samples=len(testing_existing_links),random_state=42)\n",
    "\n",
    "# merge the data back together to create the testing dataset\n",
    "testing_df=testing_existing_links.append(testing_no_link_downsampled)"
   ]
  },
  {
   "cell_type": "code",
   "execution_count": 85,
   "metadata": {},
   "outputs": [
    {
     "data": {
      "text/html": [
       "<div>\n",
       "<style scoped>\n",
       "    .dataframe tbody tr th:only-of-type {\n",
       "        vertical-align: middle;\n",
       "    }\n",
       "\n",
       "    .dataframe tbody tr th {\n",
       "        vertical-align: top;\n",
       "    }\n",
       "\n",
       "    .dataframe thead th {\n",
       "        text-align: right;\n",
       "    }\n",
       "</style>\n",
       "<table border=\"1\" class=\"dataframe\">\n",
       "  <thead>\n",
       "    <tr style=\"text-align: right;\">\n",
       "      <th></th>\n",
       "      <th>node1</th>\n",
       "      <th>node2</th>\n",
       "    </tr>\n",
       "    <tr>\n",
       "      <th>label</th>\n",
       "      <th></th>\n",
       "      <th></th>\n",
       "    </tr>\n",
       "  </thead>\n",
       "  <tbody>\n",
       "    <tr>\n",
       "      <th>0</th>\n",
       "      <td>81096</td>\n",
       "      <td>81096</td>\n",
       "    </tr>\n",
       "    <tr>\n",
       "      <th>1</th>\n",
       "      <td>81096</td>\n",
       "      <td>81096</td>\n",
       "    </tr>\n",
       "  </tbody>\n",
       "</table>\n",
       "</div>"
      ],
      "text/plain": [
       "       node1  node2\n",
       "label              \n",
       "0      81096  81096\n",
       "1      81096  81096"
      ]
     },
     "execution_count": 85,
     "metadata": {},
     "output_type": "execute_result"
    }
   ],
   "source": [
    "#check the outputs:\n",
    "training_df.groupby(['label']).count()"
   ]
  },
  {
   "cell_type": "code",
   "execution_count": 86,
   "metadata": {},
   "outputs": [
    {
     "data": {
      "text/html": [
       "<div>\n",
       "<style scoped>\n",
       "    .dataframe tbody tr th:only-of-type {\n",
       "        vertical-align: middle;\n",
       "    }\n",
       "\n",
       "    .dataframe tbody tr th {\n",
       "        vertical-align: top;\n",
       "    }\n",
       "\n",
       "    .dataframe thead th {\n",
       "        text-align: right;\n",
       "    }\n",
       "</style>\n",
       "<table border=\"1\" class=\"dataframe\">\n",
       "  <thead>\n",
       "    <tr style=\"text-align: right;\">\n",
       "      <th></th>\n",
       "      <th>node1</th>\n",
       "      <th>node2</th>\n",
       "    </tr>\n",
       "    <tr>\n",
       "      <th>label</th>\n",
       "      <th></th>\n",
       "      <th></th>\n",
       "    </tr>\n",
       "  </thead>\n",
       "  <tbody>\n",
       "    <tr>\n",
       "      <th>0</th>\n",
       "      <td>74128</td>\n",
       "      <td>74128</td>\n",
       "    </tr>\n",
       "    <tr>\n",
       "      <th>1</th>\n",
       "      <td>74128</td>\n",
       "      <td>74128</td>\n",
       "    </tr>\n",
       "  </tbody>\n",
       "</table>\n",
       "</div>"
      ],
      "text/plain": [
       "       node1  node2\n",
       "label              \n",
       "0      74128  74128\n",
       "1      74128  74128"
      ]
     },
     "execution_count": 86,
     "metadata": {},
     "output_type": "execute_result"
    }
   ],
   "source": [
    "#check the outputs:\n",
    "testing_df.groupby(['label']).count()"
   ]
  },
  {
   "cell_type": "markdown",
   "metadata": {},
   "source": [
    "## Feature extraction to predict missing links\n",
    "We need to start with some basic hypotheses about what features might be relevant to identify missing links. For co-authorship, it's likely to be metrics around communities including:\n",
    "-  more coauthors in common\n",
    "-  triadic relationships between coauthors (if two nodes are connected via a third node, it's likely that those two would become directly connected in the future)\n",
    "-  authors with more relationships\n",
    "-  authors in the same communities (eg real time systems)\n",
    "-  authors in the same tighter subcommunities (eg an institute at a university)\n",
    "\n",
    "### Start from basic graphy features:\n",
    "-  common authors: the number of potential triangles between two authors\n",
    "-  preferential attachment: multiplies the number of coauthors each author in a pair has - the score reflects that authors are more likely to collaborate with authors who have lots of collaborators\n",
    "-  total union of neighbors: fund the total number of coauthors each author has minus duplicates"
   ]
  },
  {
   "cell_type": "code",
   "execution_count": 289,
   "metadata": {},
   "outputs": [],
   "source": [
    "def apply_graphy_training_features(data):\n",
    "    query='''\n",
    "    UNWIND $pairs AS pair\n",
    "    MATCH (p1) WHERE id(p1) = pair.node1\n",
    "    MATCH (p2) WHERE id(p2) = pair.node2\n",
    "    RETURN pair.node1 AS node1,\n",
    "        pair.node2 as node2,\n",
    "        size([(p1)-[:CO_AUTHOR_EARLY]-(a)-[:CO_AUTHOR_EARLY]-(p2)|a]) AS commonAuthors,\n",
    "        size ((p1)-[:CO_AUTHOR_EARLY]-()) * size((p2)-[:CO_AUTHOR_EARLY]-()) AS prefAttachment,\n",
    "        size(apoc.coll.toSet([\n",
    "            (p1)-[:CO_AUTHOR_EARLY]->(a) | id(a)] + [(p2)-[:CO_AUTHOR_EARLY]->(a) | id(a)\n",
    "           ])) AS totalNeighbours\n",
    "    '''\n",
    "    # you have to recast the node IDs as ints bc of a collision with numpy int64\n",
    "    pairs = [{\"node1\":int(row[\"node1\"]), \"node2\": int(row[\"node2\"])} for index, row in data.iterrows()]    \n",
    "    result = coauthorGraph.run(query, {\"pairs\":pairs}).data()\n",
    "    result = pd.DataFrame(result)\n",
    "    merged_result = pd.merge(data, result, on=['node1','node2'])\n",
    "    return merged_result"
   ]
  },
  {
   "cell_type": "code",
   "execution_count": 290,
   "metadata": {},
   "outputs": [],
   "source": [
    "# and do the same for the test data\n",
    "def apply_graphy_test_features(data):\n",
    "    query='''\n",
    "    UNWIND $pairs AS pair\n",
    "    MATCH (p1) WHERE id(p1) = pair.node1\n",
    "    MATCH (p2) WHERE id(p2) = pair.node2\n",
    "    RETURN pair.node1 AS node1,\n",
    "        pair.node2 as node2,\n",
    "        size([(p1)-[:CO_AUTHOR_LATE]-(a)-[:CO_AUTHOR_LATE]-(p2)|a]) AS commonAuthors,\n",
    "        size ((p1)-[:CO_AUTHOR_LATE]-()) * size((p2)-[:CO_AUTHOR_LATE]-()) AS prefAttachment,\n",
    "        size(apoc.coll.toSet([\n",
    "            (p1)-[:CO_AUTHOR_LATE]->(a) | id(a)] + [(p2)-[:CO_AUTHOR_LATE]->(a) | id(a)\n",
    "           ])) AS totalNeighbours\n",
    "    '''\n",
    "    # you have to recast the node IDs as ints bc of a collision with numpy int64\n",
    "    pairs = [{\"node1\":int(row[\"node1\"]), \"node2\": int(row[\"node2\"])} for index, row in data.iterrows()]    \n",
    "    result = coauthorGraph.run(query, {\"pairs\":pairs}).data()\n",
    "    result = pd.DataFrame(result)\n",
    "    merged_result = pd.merge(data, result, on=['node1','node2'])\n",
    "    return merged_result"
   ]
  },
  {
   "cell_type": "code",
   "execution_count": 291,
   "metadata": {},
   "outputs": [],
   "source": [
    "# add the graph features to the test/train vectors\n",
    "training_df=apply_graphy_training_features(training_df)"
   ]
  },
  {
   "cell_type": "code",
   "execution_count": 293,
   "metadata": {},
   "outputs": [],
   "source": [
    "testing_df=apply_graphy_test_features(testing_df)"
   ]
  },
  {
   "cell_type": "code",
   "execution_count": 282,
   "metadata": {},
   "outputs": [],
   "source": [
    "# DONT RUN THIS - THIS IS ONLY HERE IN CASE I OVER WRITE THE TEST TRAIN DATA\n",
    "# training_df=training_existing_links.append(training_no_link_downsampled)\n",
    "# testing_df=testing_existing_links.append(testing_no_link_downsampled)"
   ]
  },
  {
   "cell_type": "code",
   "execution_count": 319,
   "metadata": {},
   "outputs": [],
   "source": [
    "# examine the graphy features\n",
    "commonAuthor_linked=training_df[training_df['label']==1]['commonAuthors'].value_counts(normalize=True).sort_index()\n",
    "commonAuthor_unlinked=training_df[training_df['label']==0]['commonAuthors'].value_counts(normalize=True).sort_index()"
   ]
  },
  {
   "cell_type": "code",
   "execution_count": 327,
   "metadata": {},
   "outputs": [
    {
     "data": {
      "text/plain": [
       "<matplotlib.axes._subplots.AxesSubplot at 0x20a26242710>"
      ]
     },
     "execution_count": 327,
     "metadata": {},
     "output_type": "execute_result"
    },
    {
     "data": {
      "image/png": "[encoded data removed]",
      "text/plain": [
       "<Figure size 432x288 with 1 Axes>"
      ]
     },
     "metadata": {
      "needs_background": "light"
     },
     "output_type": "display_data"
    }
   ],
   "source": [
    "commonAuthor_linked.plot(kind='bar', title='CommonAuthor frequency, authors who have collaborated')\n"
   ]
  },
  {
   "cell_type": "code",
   "execution_count": 328,
   "metadata": {},
   "outputs": [
    {
     "data": {
      "text/plain": [
       "<matplotlib.axes._subplots.AxesSubplot at 0x20a260b5cc0>"
      ]
     },
     "execution_count": 328,
     "metadata": {},
     "output_type": "execute_result"
    },
    {
     "data": {
      "image/png": "[encoded data removed]",
      "text/plain": [
       "<Figure size 432x288 with 1 Axes>"
      ]
     },
     "metadata": {
      "needs_background": "light"
     },
     "output_type": "display_data"
    }
   ],
   "source": [
    "commonAuthor_unlinked.plot(kind='bar', title='CommonAuthor frequency, authors who have not collaborated')"
   ]
  },
  {
   "cell_type": "markdown",
   "metadata": {},
   "source": [
    "## Train some models!\n",
    "Let's start training basic models - beginning with just the commonAuthors feature"
   ]
  },
  {
   "cell_type": "code",
   "execution_count": 423,
   "metadata": {},
   "outputs": [
    {
     "data": {
      "text/plain": [
       "RandomForestClassifier(bootstrap=True, class_weight=None, criterion='gini',\n",
       "            max_depth=None, max_features='auto', max_leaf_nodes=None,\n",
       "            min_impurity_decrease=0.0, min_impurity_split=None,\n",
       "            min_samples_leaf=1, min_samples_split=2,\n",
       "            min_weight_fraction_leaf=0.0, n_estimators=10, n_jobs=None,\n",
       "            oob_score=False, random_state=42, verbose=0, warm_start=False)"
      ]
     },
     "execution_count": 423,
     "metadata": {},
     "output_type": "execute_result"
    }
   ],
   "source": [
    "# random forest classifier - set up the model inputs and targets\n",
    "# have to reshape the arrays to work with sklearn\n",
    "x_train=training_df['commonAuthors'].values.reshape(-1,1)\n",
    "x_test=testing_df['commonAuthors'].values.reshape(-1,1)\n",
    "y_train=training_df['label'].values.reshape(-1,1)\n",
    "y_test=testing_df['label'].values.reshape(-1,1)\n",
    "\n",
    "rf_classifier=RandomForestClassifier(random_state=42)\n",
    "# use np.ravel to swap the labels from column to row format\n",
    "rf_classifier.fit(x_train, np.ravel(y_train))"
   ]
  },
  {
   "cell_type": "markdown",
   "metadata": {},
   "source": [
    "Let's test out some dummy predictions with the newly trained model"
   ]
  },
  {
   "cell_type": "code",
   "execution_count": 424,
   "metadata": {},
   "outputs": [
    {
     "data": {
      "text/plain": [
       "array([[0.8783921 , 0.1216079 ],\n",
       "       [0.56474941, 0.43525059],\n",
       "       [0.11817702, 0.88182298],\n",
       "       [0.        , 1.        ],\n",
       "       [0.        , 1.        ]])"
      ]
     },
     "execution_count": 424,
     "metadata": {},
     "output_type": "execute_result"
    }
   ],
   "source": [
    "test_predict=np.array([0,1,2,10,100]).reshape(-1,1)\n",
    "rf_classifier.predict_proba(test_predict)"
   ]
  },
  {
   "cell_type": "markdown",
   "metadata": {},
   "source": [
    "How do I even interpret this? The two columns correspond to the probability that the input values (0, 1, 2, 10, and 100 commonAuthors in the graph) have a relationship between two authors. \n",
    "-  0 commonAuthors between a pair: 87% chance they are not linked\n",
    "-  1 commonAuthor: 56% chance they are linked\n",
    "-  2 commonAuthors: 88% chance they are linked\n",
    "-  10 (or 100) commonAuthors: 100% chance they're linked\n",
    "\n",
    "Next, let's evaluate things a bit more systematically using our testing data."
   ]
  },
  {
   "cell_type": "code",
   "execution_count": 425,
   "metadata": {},
   "outputs": [
    {
     "data": {
      "text/plain": [
       "array([[71477,  2651],\n",
       "       [21041, 53087]], dtype=int64)"
      ]
     },
     "execution_count": 425,
     "metadata": {},
     "output_type": "execute_result"
    }
   ],
   "source": [
    "y_preds=rf_classifier.predict(x_test)\n",
    "confusion_matrix(y_test,y_preds)"
   ]
  },
  {
   "cell_type": "code",
   "execution_count": 379,
   "metadata": {},
   "outputs": [
    {
     "data": {
      "text/plain": [
       "0.9524381929742725"
      ]
     },
     "execution_count": 379,
     "metadata": {},
     "output_type": "execute_result"
    }
   ],
   "source": [
    "precision_score(y_test,y_preds)"
   ]
  },
  {
   "cell_type": "code",
   "execution_count": 381,
   "metadata": {},
   "outputs": [
    {
     "data": {
      "text/plain": [
       "0.716153140513706"
      ]
     },
     "execution_count": 381,
     "metadata": {},
     "output_type": "execute_result"
    }
   ],
   "source": [
    "recall_score(y_test,y_preds)"
   ]
  },
  {
   "cell_type": "code",
   "execution_count": 384,
   "metadata": {},
   "outputs": [
    {
     "data": {
      "text/plain": [
       "0.840195337794086"
      ]
     },
     "execution_count": 384,
     "metadata": {},
     "output_type": "execute_result"
    }
   ],
   "source": [
    "accuracy_score(y_test, y_preds)"
   ]
  },
  {
   "cell_type": "markdown",
   "metadata": {},
   "source": [
    "The simple model built with only a single predictive feature (commonAuthors) performs reasonably well. \n",
    "-  *accuracy* - (true positives + true negatives) / total predictions = 84%\n",
    "-  *precision* - (true positives)/(true positives + false positives) = 95%\n",
    "-  *recall / true positive rate* - (true positives)/(true positives + false negatives) =71%\n",
    "- *false positive rate* - (false positives)/(false positives + true negatives) = 3.5%\n",
    "\n",
    "We can also visualize the performance of the model using a ROC curve"
   ]
  },
  {
   "cell_type": "code",
   "execution_count": 386,
   "metadata": {},
   "outputs": [
    {
     "data": {
      "text/plain": [
       "0.8401953377940858"
      ]
     },
     "execution_count": 386,
     "metadata": {},
     "output_type": "execute_result"
    }
   ],
   "source": [
    "roc_auc_score(y_test, y_preds)"
   ]
  },
  {
   "cell_type": "code",
   "execution_count": 388,
   "metadata": {},
   "outputs": [
    {
     "data": {
      "image/png": "[encoded data removed]",
      "text/plain": [
       "<Figure size 432x288 with 1 Axes>"
      ]
     },
     "metadata": {
      "needs_background": "light"
     },
     "output_type": "display_data"
    }
   ],
   "source": [
    "fpr, tpr, thresholds = roc_curve(y_test, y_preds)\n",
    "plt.close()\n",
    "plt.plot(fpr, tpr, label='Common Authors, AUC = 0.84')\n",
    "plt.plot([0,1],[0,1], label='Random Score, AUC = 0.50')\n",
    "plt.xlabel('false positive rate')\n",
    "plt.ylabel('true positive rate')\n",
    "plt.legend(loc=\"bottom right\")\n",
    "plt.show()"
   ]
  },
  {
   "cell_type": "markdown",
   "metadata": {},
   "source": [
    "What about adding other features? We also calculated preferentialAttachment (nodes with lots of connections tend to make more connections) and totalNeighbors (how many neighbors does each pair have). Let's check the descriptive stats for each:"
   ]
  },
  {
   "cell_type": "code",
   "execution_count": 394,
   "metadata": {},
   "outputs": [
    {
     "data": {
      "text/html": [
       "<div>\n",
       "<style scoped>\n",
       "    .dataframe tbody tr th:only-of-type {\n",
       "        vertical-align: middle;\n",
       "    }\n",
       "\n",
       "    .dataframe tbody tr th {\n",
       "        vertical-align: top;\n",
       "    }\n",
       "\n",
       "    .dataframe thead th {\n",
       "        text-align: right;\n",
       "    }\n",
       "</style>\n",
       "<table border=\"1\" class=\"dataframe\">\n",
       "  <thead>\n",
       "    <tr style=\"text-align: right;\">\n",
       "      <th></th>\n",
       "      <th>prefAttachment</th>\n",
       "      <th>totalNeighbours</th>\n",
       "    </tr>\n",
       "  </thead>\n",
       "  <tbody>\n",
       "    <tr>\n",
       "      <th>count</th>\n",
       "      <td>81096.000000</td>\n",
       "      <td>81096.000000</td>\n",
       "    </tr>\n",
       "    <tr>\n",
       "      <th>mean</th>\n",
       "      <td>69.935373</td>\n",
       "      <td>6.800570</td>\n",
       "    </tr>\n",
       "    <tr>\n",
       "      <th>std</th>\n",
       "      <td>171.470923</td>\n",
       "      <td>7.186484</td>\n",
       "    </tr>\n",
       "    <tr>\n",
       "      <th>min</th>\n",
       "      <td>1.000000</td>\n",
       "      <td>1.000000</td>\n",
       "    </tr>\n",
       "    <tr>\n",
       "      <th>25%</th>\n",
       "      <td>9.000000</td>\n",
       "      <td>2.000000</td>\n",
       "    </tr>\n",
       "    <tr>\n",
       "      <th>50%</th>\n",
       "      <td>24.000000</td>\n",
       "      <td>4.000000</td>\n",
       "    </tr>\n",
       "    <tr>\n",
       "      <th>75%</th>\n",
       "      <td>54.000000</td>\n",
       "      <td>8.000000</td>\n",
       "    </tr>\n",
       "    <tr>\n",
       "      <th>max</th>\n",
       "      <td>3150.000000</td>\n",
       "      <td>85.000000</td>\n",
       "    </tr>\n",
       "  </tbody>\n",
       "</table>\n",
       "</div>"
      ],
      "text/plain": [
       "       prefAttachment  totalNeighbours\n",
       "count    81096.000000     81096.000000\n",
       "mean        69.935373         6.800570\n",
       "std        171.470923         7.186484\n",
       "min          1.000000         1.000000\n",
       "25%          9.000000         2.000000\n",
       "50%         24.000000         4.000000\n",
       "75%         54.000000         8.000000\n",
       "max       3150.000000        85.000000"
      ]
     },
     "execution_count": 394,
     "metadata": {},
     "output_type": "execute_result"
    }
   ],
   "source": [
    "# statistics for connected authors\n",
    "training_df[training_df['label']==1][['prefAttachment','totalNeighbours']].describe()"
   ]
  },
  {
   "cell_type": "code",
   "execution_count": 395,
   "metadata": {},
   "outputs": [
    {
     "data": {
      "text/html": [
       "<div>\n",
       "<style scoped>\n",
       "    .dataframe tbody tr th:only-of-type {\n",
       "        vertical-align: middle;\n",
       "    }\n",
       "\n",
       "    .dataframe tbody tr th {\n",
       "        vertical-align: top;\n",
       "    }\n",
       "\n",
       "    .dataframe thead th {\n",
       "        text-align: right;\n",
       "    }\n",
       "</style>\n",
       "<table border=\"1\" class=\"dataframe\">\n",
       "  <thead>\n",
       "    <tr style=\"text-align: right;\">\n",
       "      <th></th>\n",
       "      <th>prefAttachment</th>\n",
       "      <th>totalNeighbours</th>\n",
       "    </tr>\n",
       "  </thead>\n",
       "  <tbody>\n",
       "    <tr>\n",
       "      <th>count</th>\n",
       "      <td>81096.000000</td>\n",
       "      <td>81096.000000</td>\n",
       "    </tr>\n",
       "    <tr>\n",
       "      <th>mean</th>\n",
       "      <td>48.066896</td>\n",
       "      <td>7.263909</td>\n",
       "    </tr>\n",
       "    <tr>\n",
       "      <th>std</th>\n",
       "      <td>95.320792</td>\n",
       "      <td>8.211897</td>\n",
       "    </tr>\n",
       "    <tr>\n",
       "      <th>min</th>\n",
       "      <td>1.000000</td>\n",
       "      <td>0.000000</td>\n",
       "    </tr>\n",
       "    <tr>\n",
       "      <th>25%</th>\n",
       "      <td>9.000000</td>\n",
       "      <td>2.000000</td>\n",
       "    </tr>\n",
       "    <tr>\n",
       "      <th>50%</th>\n",
       "      <td>20.000000</td>\n",
       "      <td>5.000000</td>\n",
       "    </tr>\n",
       "    <tr>\n",
       "      <th>75%</th>\n",
       "      <td>48.000000</td>\n",
       "      <td>10.000000</td>\n",
       "    </tr>\n",
       "    <tr>\n",
       "      <th>max</th>\n",
       "      <td>1886.000000</td>\n",
       "      <td>83.000000</td>\n",
       "    </tr>\n",
       "  </tbody>\n",
       "</table>\n",
       "</div>"
      ],
      "text/plain": [
       "       prefAttachment  totalNeighbours\n",
       "count    81096.000000     81096.000000\n",
       "mean        48.066896         7.263909\n",
       "std         95.320792         8.211897\n",
       "min          1.000000         0.000000\n",
       "25%          9.000000         2.000000\n",
       "50%         20.000000         5.000000\n",
       "75%         48.000000        10.000000\n",
       "max       1886.000000        83.000000"
      ]
     },
     "execution_count": 395,
     "metadata": {},
     "output_type": "execute_result"
    }
   ],
   "source": [
    "# statistics for disconnected authors\n",
    "training_df[training_df['label']==0][['prefAttachment','totalNeighbours']].describe()"
   ]
  },
  {
   "cell_type": "markdown",
   "metadata": {},
   "source": [
    "Visually inspecting these, it looks like preferentialAttachment has far more variability  between linked and unlinked authors, as compared to totalNeighbors - this suggests that it's a more important variable.\n",
    "\n",
    "Either way, let's build a new model with all three graph features: commonAuthors, prefAttachment, and totalNeighbors."
   ]
  },
  {
   "cell_type": "code",
   "execution_count": 428,
   "metadata": {},
   "outputs": [
    {
     "data": {
      "text/plain": [
       "RandomForestClassifier(bootstrap=True, class_weight=None, criterion='gini',\n",
       "            max_depth=None, max_features='auto', max_leaf_nodes=None,\n",
       "            min_impurity_decrease=0.0, min_impurity_split=None,\n",
       "            min_samples_leaf=1, min_samples_split=2,\n",
       "            min_weight_fraction_leaf=0.0, n_estimators=10, n_jobs=None,\n",
       "            oob_score=False, random_state=42, verbose=0, warm_start=False)"
      ]
     },
     "execution_count": 428,
     "metadata": {},
     "output_type": "execute_result"
    }
   ],
   "source": [
    "# random forest classifier - set up the model inputs and targets\n",
    "# have to reshape the arrays to work with sklearn\n",
    "#x_train=training_df['commonAuthors'].values.reshape(-1,1)\n",
    "x_train=training_df[['commonAuthors','prefAttachment','totalNeighbours']]\n",
    "x_test3=testing_df[['commonAuthors','prefAttachment','totalNeighbours']]\n",
    "y_train=training_df['label'].values.reshape(-1,1)\n",
    "y_test=testing_df['label'].values.reshape(-1,1)\n",
    "\n",
    "rf3_classifier=RandomForestClassifier(random_state=42)\n",
    "# use np.ravel to swap the labels from column to row format\n",
    "rf3_classifier.fit(x_train, np.ravel(y_train))"
   ]
  },
  {
   "cell_type": "code",
   "execution_count": 429,
   "metadata": {},
   "outputs": [
    {
     "name": "stdout",
     "output_type": "stream",
     "text": [
      "accuracy: 0.9201179041657673\n",
      "recall: 0.9040848262464926\n",
      "precision: 0.9340357625677691\n",
      "AUC: 0.9201179041657674\n"
     ]
    }
   ],
   "source": [
    "y_preds3=rf3_classifier.predict(x_test3)\n",
    "print(\"accuracy:\", accuracy_score(y_test,y_preds3))\n",
    "print(\"recall:\", recall_score(y_test,y_preds3))\n",
    "print(\"precision:\", precision_score(y_test,y_preds3))\n",
    "print(\"AUC:\", roc_auc_score(y_test, y_preds3))"
   ]
  },
  {
   "cell_type": "markdown",
   "metadata": {},
   "source": [
    "With the addition of preferential attachment and total neighbors, the accuracy and recall have both increased, although precision has dropped slightly. \n",
    "\n",
    "We can also add the ROC curve for this model to our plot for comparison."
   ]
  },
  {
   "cell_type": "code",
   "execution_count": 436,
   "metadata": {},
   "outputs": [
    {
     "data": {
      "image/png": "[encoded data removed]",
      "text/plain": [
       "<Figure size 720x360 with 1 Axes>"
      ]
     },
     "metadata": {
      "needs_background": "light"
     },
     "output_type": "display_data"
    },
    {
     "data": {
      "text/plain": [
       "<Figure size 14400x1440 with 0 Axes>"
      ]
     },
     "metadata": {},
     "output_type": "display_data"
    }
   ],
   "source": [
    "fpr, tpr, thresholds = roc_curve(y_test, y_preds)\n",
    "fpr3, tpr3, thresholds3 = roc_curve(y_test, y_preds3)\n",
    "plt.close()\n",
    "plt.figure(figsize=(10,5))\n",
    "plt.plot(fpr, tpr, label='Common Authors, AUC = 0.84')\n",
    "plt.plot([0,1],[0,1], label='Random Score, AUC = 0.50')\n",
    "plt.plot(fpr3, tpr3, label='CommonAuthors, PrefAttach, totalNeighbors, AUC = 0.92')\n",
    "plt.xlabel('false positive rate')\n",
    "plt.ylabel('true positive rate')\n",
    "plt.legend(loc=\"bottom right\")\n",
    "plt.figure(figsize=(200,20))\n",
    "plt.show()"
   ]
  },
  {
   "cell_type": "code",
   "execution_count": 441,
   "metadata": {},
   "outputs": [
    {
     "data": {
      "text/html": [
       "<div>\n",
       "<style scoped>\n",
       "    .dataframe tbody tr th:only-of-type {\n",
       "        vertical-align: middle;\n",
       "    }\n",
       "\n",
       "    .dataframe tbody tr th {\n",
       "        vertical-align: top;\n",
       "    }\n",
       "\n",
       "    .dataframe thead th {\n",
       "        text-align: right;\n",
       "    }\n",
       "</style>\n",
       "<table border=\"1\" class=\"dataframe\">\n",
       "  <thead>\n",
       "    <tr style=\"text-align: right;\">\n",
       "      <th></th>\n",
       "      <th>importance</th>\n",
       "    </tr>\n",
       "  </thead>\n",
       "  <tbody>\n",
       "    <tr>\n",
       "      <th>commonAuthors</th>\n",
       "      <td>0.684087</td>\n",
       "    </tr>\n",
       "    <tr>\n",
       "      <th>prefAttachment</th>\n",
       "      <td>0.205997</td>\n",
       "    </tr>\n",
       "    <tr>\n",
       "      <th>totalNeighbours</th>\n",
       "      <td>0.109915</td>\n",
       "    </tr>\n",
       "  </tbody>\n",
       "</table>\n",
       "</div>"
      ],
      "text/plain": [
       "                 importance\n",
       "commonAuthors      0.684087\n",
       "prefAttachment     0.205997\n",
       "totalNeighbours    0.109915"
      ]
     },
     "execution_count": 441,
     "metadata": {},
     "output_type": "execute_result"
    }
   ],
   "source": [
    "# extract feature importance\n",
    "feature_importance = pd.DataFrame(rf3_classifier.feature_importances_, index=x_train.columns, columns=['importance']).sort_values('importance',ascending=False)\n",
    "feature_importance"
   ]
  },
  {
   "cell_type": "code",
   "execution_count": 443,
   "metadata": {},
   "outputs": [
    {
     "data": {
      "text/plain": [
       "<matplotlib.axes._subplots.AxesSubplot at 0x20a24453cc0>"
      ]
     },
     "execution_count": 443,
     "metadata": {},
     "output_type": "execute_result"
    },
    {
     "data": {
      "image/png": "[encoded data removed]",
      "text/plain": [
       "<Figure size 432x288 with 1 Axes>"
      ]
     },
     "metadata": {
      "needs_background": "light"
     },
     "output_type": "display_data"
    }
   ],
   "source": [
    "feature_importance.plot(kind='bar')"
   ]
  },
  {
   "cell_type": "markdown",
   "metadata": {},
   "source": [
    "Common authors is the most important feature by a large margin, followed by preferential attachment and total neighbors. This makes sense in the context of our models: the commonAuthors model, alone, performed quite well, while adding extra features only provided small improvements."
   ]
  },
  {
   "cell_type": "markdown",
   "metadata": {},
   "source": [
    "## Add more features to predict links: triangles and clustering coefficients\n",
    "\n",
    "*Triangle counting* is a community detection algorithm used to determine the number of triangles passing through each node in a graph; a triangle is a set of three nodes where each node is connected to all other nodes. It's often used to detect communities, determine the stability of a graph, or as part of calculating other network indices like clustering coefficients.\n",
    "\n",
    "*Clustering coefficient* is the measure of the degree to which nodes in the graph are clustered together. Global clustering coefficientes describe the overall clustering of the netwrok, while local gives an indication of the embeddedness of individual nodes.\n",
    "\n",
    "We can add both of these metrics directly to the graph by calling the Neo4J algorithms library and adding attributes to the nodes in the graph."
   ]
  },
  {
   "cell_type": "code",
   "execution_count": 458,
   "metadata": {},
   "outputs": [],
   "source": [
    "#run the query on the graph - add triangles and clustering coefficients to the early edges\n",
    "query='''\n",
    "CALL algo.triangleCount('Author', 'CO_AUTHOR_EARLY', { write:true,\n",
    "  writeProperty:'trianglesTrain', clusteringCoefficientProperty:'coefficientTrain'});\n",
    "'''\n",
    "coauthorGraph.run(query);"
   ]
  },
  {
   "cell_type": "code",
   "execution_count": 459,
   "metadata": {},
   "outputs": [],
   "source": [
    "#add triangles and clustering coefficients to the late edges\n",
    "query='''\n",
    "CALL algo.triangleCount('Author', 'CO_AUTHOR_LATE', { write:true,\n",
    "  writeProperty:'trianglesTest', clusteringCoefficientProperty:'coefficientTest'});'''\n",
    "coauthorGraph.run(query);"
   ]
  },
  {
   "cell_type": "code",
   "execution_count": 465,
   "metadata": {},
   "outputs": [],
   "source": [
    "def apply_triangles_features(data, triangles_prop, coefficient_prop):\n",
    "    query='''\n",
    "    UNWIND $pairs AS pair\n",
    "    MATCH (p1) WHERE id(p1) = pair.node1\n",
    "    MATCH (p2) WHERE id(p2) = pair.node2\n",
    "    RETURN pair.node1 AS node1,\n",
    "           pair.node2 AS node2,\n",
    "           apoc.coll.min([p1[$trianglesProp], p2[$trianglesProp]]) AS minTriangles,\n",
    "           apoc.coll.max([p1[$trianglesProp], p2[$trianglesProp]]) AS maxTriangles,\n",
    "           apoc.coll.min([p1[$coefficientProp], p2[$coefficientProp]]) AS minCoefficient,\n",
    "           apoc.coll.max([p1[$coefficientProp], p2[$coefficientProp]]) AS maxCoefficient\n",
    "\n",
    "    '''\n",
    "    # you have to recast the node IDs as ints bc of a collision with numpy int64\n",
    "    params = {\n",
    "        \"pairs\" : [{\"node1\":int(row[\"node1\"]), \"node2\": int(row[\"node2\"])} for index, row in data.iterrows()],    \n",
    "        \"trianglesProp\": triangles_prop,\n",
    "        \"coefficientProp\": coefficient_prop\n",
    "    }\n",
    "    result = coauthorGraph.run(query,params).data()\n",
    "    result = pd.DataFrame(result)\n",
    "    merged_result = pd.merge(data, result, on=['node1','node2'])\n",
    "    return merged_result"
   ]
  },
  {
   "cell_type": "code",
   "execution_count": 469,
   "metadata": {},
   "outputs": [],
   "source": [
    "training_df = apply_triangles_features(training_df, \"trianglesTrain\", \"coefficientTrain\")\n",
    "testing_df = apply_triangles_features(testing_df, \"trianglesTest\", \"coefficientTest\")"
   ]
  },
  {
   "cell_type": "markdown",
   "metadata": {},
   "source": [
    "We can calculate some quick summary statistics for these features as well:"
   ]
  },
  {
   "cell_type": "code",
   "execution_count": 472,
   "metadata": {},
   "outputs": [
    {
     "data": {
      "text/html": [
       "<div>\n",
       "<style scoped>\n",
       "    .dataframe tbody tr th:only-of-type {\n",
       "        vertical-align: middle;\n",
       "    }\n",
       "\n",
       "    .dataframe tbody tr th {\n",
       "        vertical-align: top;\n",
       "    }\n",
       "\n",
       "    .dataframe thead th {\n",
       "        text-align: right;\n",
       "    }\n",
       "</style>\n",
       "<table border=\"1\" class=\"dataframe\">\n",
       "  <thead>\n",
       "    <tr style=\"text-align: right;\">\n",
       "      <th></th>\n",
       "      <th>minTriangles</th>\n",
       "      <th>maxTriangles</th>\n",
       "      <th>minCoefficient</th>\n",
       "      <th>maxCoefficient</th>\n",
       "    </tr>\n",
       "  </thead>\n",
       "  <tbody>\n",
       "    <tr>\n",
       "      <th>count</th>\n",
       "      <td>81096.000000</td>\n",
       "      <td>81096.000000</td>\n",
       "      <td>81096.000000</td>\n",
       "      <td>81096.000000</td>\n",
       "    </tr>\n",
       "    <tr>\n",
       "      <th>mean</th>\n",
       "      <td>19.478260</td>\n",
       "      <td>27.735906</td>\n",
       "      <td>0.570377</td>\n",
       "      <td>0.845379</td>\n",
       "    </tr>\n",
       "    <tr>\n",
       "      <th>std</th>\n",
       "      <td>65.761528</td>\n",
       "      <td>74.018962</td>\n",
       "      <td>0.361461</td>\n",
       "      <td>0.293968</td>\n",
       "    </tr>\n",
       "    <tr>\n",
       "      <th>min</th>\n",
       "      <td>0.000000</td>\n",
       "      <td>0.000000</td>\n",
       "      <td>0.000000</td>\n",
       "      <td>0.000000</td>\n",
       "    </tr>\n",
       "    <tr>\n",
       "      <th>25%</th>\n",
       "      <td>1.000000</td>\n",
       "      <td>3.000000</td>\n",
       "      <td>0.266667</td>\n",
       "      <td>0.833333</td>\n",
       "    </tr>\n",
       "    <tr>\n",
       "      <th>50%</th>\n",
       "      <td>3.000000</td>\n",
       "      <td>8.000000</td>\n",
       "      <td>0.500000</td>\n",
       "      <td>1.000000</td>\n",
       "    </tr>\n",
       "    <tr>\n",
       "      <th>75%</th>\n",
       "      <td>10.000000</td>\n",
       "      <td>21.000000</td>\n",
       "      <td>1.000000</td>\n",
       "      <td>1.000000</td>\n",
       "    </tr>\n",
       "    <tr>\n",
       "      <th>max</th>\n",
       "      <td>622.000000</td>\n",
       "      <td>785.000000</td>\n",
       "      <td>1.000000</td>\n",
       "      <td>1.000000</td>\n",
       "    </tr>\n",
       "  </tbody>\n",
       "</table>\n",
       "</div>"
      ],
      "text/plain": [
       "       minTriangles  maxTriangles  minCoefficient  maxCoefficient\n",
       "count  81096.000000  81096.000000    81096.000000    81096.000000\n",
       "mean      19.478260     27.735906        0.570377        0.845379\n",
       "std       65.761528     74.018962        0.361461        0.293968\n",
       "min        0.000000      0.000000        0.000000        0.000000\n",
       "25%        1.000000      3.000000        0.266667        0.833333\n",
       "50%        3.000000      8.000000        0.500000        1.000000\n",
       "75%       10.000000     21.000000        1.000000        1.000000\n",
       "max      622.000000    785.000000        1.000000        1.000000"
      ]
     },
     "execution_count": 472,
     "metadata": {},
     "output_type": "execute_result"
    }
   ],
   "source": [
    "# statistics for connected authors\n",
    "training_df[training_df['label']==1][['minTriangles','maxTriangles', 'minCoefficient','maxCoefficient']].describe()"
   ]
  },
  {
   "cell_type": "code",
   "execution_count": 473,
   "metadata": {},
   "outputs": [
    {
     "data": {
      "text/html": [
       "<div>\n",
       "<style scoped>\n",
       "    .dataframe tbody tr th:only-of-type {\n",
       "        vertical-align: middle;\n",
       "    }\n",
       "\n",
       "    .dataframe tbody tr th {\n",
       "        vertical-align: top;\n",
       "    }\n",
       "\n",
       "    .dataframe thead th {\n",
       "        text-align: right;\n",
       "    }\n",
       "</style>\n",
       "<table border=\"1\" class=\"dataframe\">\n",
       "  <thead>\n",
       "    <tr style=\"text-align: right;\">\n",
       "      <th></th>\n",
       "      <th>minTriangles</th>\n",
       "      <th>maxTriangles</th>\n",
       "      <th>minCoefficient</th>\n",
       "      <th>maxCoefficient</th>\n",
       "    </tr>\n",
       "  </thead>\n",
       "  <tbody>\n",
       "    <tr>\n",
       "      <th>count</th>\n",
       "      <td>81096.000000</td>\n",
       "      <td>81096.000000</td>\n",
       "      <td>81096.000000</td>\n",
       "      <td>81096.000000</td>\n",
       "    </tr>\n",
       "    <tr>\n",
       "      <th>mean</th>\n",
       "      <td>5.707988</td>\n",
       "      <td>35.184485</td>\n",
       "      <td>0.489277</td>\n",
       "      <td>0.860681</td>\n",
       "    </tr>\n",
       "    <tr>\n",
       "      <th>std</th>\n",
       "      <td>20.609580</td>\n",
       "      <td>84.765160</td>\n",
       "      <td>0.368551</td>\n",
       "      <td>0.257112</td>\n",
       "    </tr>\n",
       "    <tr>\n",
       "      <th>min</th>\n",
       "      <td>0.000000</td>\n",
       "      <td>0.000000</td>\n",
       "      <td>0.000000</td>\n",
       "      <td>0.000000</td>\n",
       "    </tr>\n",
       "    <tr>\n",
       "      <th>25%</th>\n",
       "      <td>1.000000</td>\n",
       "      <td>5.000000</td>\n",
       "      <td>0.180952</td>\n",
       "      <td>0.820513</td>\n",
       "    </tr>\n",
       "    <tr>\n",
       "      <th>50%</th>\n",
       "      <td>3.000000</td>\n",
       "      <td>10.000000</td>\n",
       "      <td>0.400000</td>\n",
       "      <td>1.000000</td>\n",
       "    </tr>\n",
       "    <tr>\n",
       "      <th>75%</th>\n",
       "      <td>6.000000</td>\n",
       "      <td>28.000000</td>\n",
       "      <td>1.000000</td>\n",
       "      <td>1.000000</td>\n",
       "    </tr>\n",
       "    <tr>\n",
       "      <th>max</th>\n",
       "      <td>601.000000</td>\n",
       "      <td>785.000000</td>\n",
       "      <td>1.000000</td>\n",
       "      <td>1.000000</td>\n",
       "    </tr>\n",
       "  </tbody>\n",
       "</table>\n",
       "</div>"
      ],
      "text/plain": [
       "       minTriangles  maxTriangles  minCoefficient  maxCoefficient\n",
       "count  81096.000000  81096.000000    81096.000000    81096.000000\n",
       "mean       5.707988     35.184485        0.489277        0.860681\n",
       "std       20.609580     84.765160        0.368551        0.257112\n",
       "min        0.000000      0.000000        0.000000        0.000000\n",
       "25%        1.000000      5.000000        0.180952        0.820513\n",
       "50%        3.000000     10.000000        0.400000        1.000000\n",
       "75%        6.000000     28.000000        1.000000        1.000000\n",
       "max      601.000000    785.000000        1.000000        1.000000"
      ]
     },
     "execution_count": 473,
     "metadata": {},
     "output_type": "execute_result"
    }
   ],
   "source": [
    "#unconnected (no-coauthorship) pairs\n",
    "training_df[training_df['label']==0][['minTriangles','maxTriangles', 'minCoefficient','maxCoefficient']].describe()"
   ]
  },
  {
   "cell_type": "markdown",
   "metadata": {},
   "source": [
    "There aren't huge differences between co-author vs. no-coathor pairs, but why not add these into the model as well?"
   ]
  },
  {
   "cell_type": "code",
   "execution_count": 475,
   "metadata": {},
   "outputs": [
    {
     "data": {
      "text/plain": [
       "RandomForestClassifier(bootstrap=True, class_weight=None, criterion='gini',\n",
       "            max_depth=None, max_features='auto', max_leaf_nodes=None,\n",
       "            min_impurity_decrease=0.0, min_impurity_split=None,\n",
       "            min_samples_leaf=1, min_samples_split=2,\n",
       "            min_weight_fraction_leaf=0.0, n_estimators=10, n_jobs=None,\n",
       "            oob_score=False, random_state=42, verbose=0, warm_start=False)"
      ]
     },
     "execution_count": 475,
     "metadata": {},
     "output_type": "execute_result"
    }
   ],
   "source": [
    "# random forest classifier - set up the model inputs and targets\n",
    "# have to reshape the arrays to work with sklearn\n",
    "#x_train=training_df['commonAuthors'].values.reshape(-1,1)\n",
    "x_train=training_df[[\"commonAuthors\", \"prefAttachment\", \"totalNeighbours\", \"minTriangles\", \"maxTriangles\",\n",
    "          \"minCoefficient\", \"maxCoefficient\"]]\n",
    "x_test7=testing_df[[\"commonAuthors\", \"prefAttachment\", \"totalNeighbours\", \"minTriangles\", \"maxTriangles\",\n",
    "          \"minCoefficient\", \"maxCoefficient\"]]\n",
    "y_train=training_df['label'].values.reshape(-1,1)\n",
    "y_test=testing_df['label'].values.reshape(-1,1)\n",
    "\n",
    "rf7_classifier=RandomForestClassifier(random_state=42)\n",
    "# use np.ravel to swap the labels from column to row format\n",
    "rf7_classifier.fit(x_train, np.ravel(y_train))"
   ]
  },
  {
   "cell_type": "code",
   "execution_count": 476,
   "metadata": {},
   "outputs": [
    {
     "name": "stdout",
     "output_type": "stream",
     "text": [
      "accuracy: 0.9570270343190157\n",
      "recall: 0.9571417008417872\n",
      "precision: 0.9569222469485468\n",
      "AUC: 0.9570270343190158\n"
     ]
    }
   ],
   "source": [
    "y_preds7=rf7_classifier.predict(x_test7)\n",
    "print(\"accuracy:\", accuracy_score(y_test,y_preds7))\n",
    "print(\"recall:\", recall_score(y_test,y_preds7))\n",
    "print(\"precision:\", precision_score(y_test,y_preds7))\n",
    "print(\"AUC:\", roc_auc_score(y_test, y_preds7))"
   ]
  },
  {
   "cell_type": "markdown",
   "metadata": {},
   "source": [
    "Again, with some more variables, we've made the model a little bit better."
   ]
  },
  {
   "cell_type": "code",
   "execution_count": 477,
   "metadata": {},
   "outputs": [
    {
     "data": {
      "image/png": "[encoded data removed]",
      "text/plain": [
       "<Figure size 720x360 with 1 Axes>"
      ]
     },
     "metadata": {
      "needs_background": "light"
     },
     "output_type": "display_data"
    },
    {
     "data": {
      "text/plain": [
       "<Figure size 14400x1440 with 0 Axes>"
      ]
     },
     "metadata": {},
     "output_type": "display_data"
    }
   ],
   "source": [
    "fpr, tpr, thresholds = roc_curve(y_test, y_preds)\n",
    "fpr3, tpr3, thresholds3 = roc_curve(y_test, y_preds3)\n",
    "fpr7, tpr7, thresholds7 = roc_curve(y_test, y_preds7)\n",
    "plt.close()\n",
    "plt.figure(figsize=(10,5))\n",
    "plt.plot(fpr, tpr, label='Common Authors, AUC = 0.84')\n",
    "plt.plot([0,1],[0,1], label='Random Score, AUC = 0.50')\n",
    "plt.plot(fpr3, tpr3, label='CommonAuthors, PrefAttach, totalNeighbors, AUC = 0.92')\n",
    "plt.plot(fpr7, tpr7, label='Triangles & Clustering Coefficients, AUC = 0.95')\n",
    "plt.xlabel('false positive rate')\n",
    "plt.ylabel('true positive rate')\n",
    "plt.legend(loc=\"bottom right\")\n",
    "plt.figure(figsize=(200,20))\n",
    "plt.show()"
   ]
  },
  {
   "cell_type": "code",
   "execution_count": 478,
   "metadata": {},
   "outputs": [
    {
     "data": {
      "text/plain": [
       "<matplotlib.axes._subplots.AxesSubplot at 0x20a24c9e2e8>"
      ]
     },
     "execution_count": 478,
     "metadata": {},
     "output_type": "execute_result"
    },
    {
     "data": {
      "image/png": "[encoded data removed]",
      "text/plain": [
       "<Figure size 432x288 with 1 Axes>"
      ]
     },
     "metadata": {
      "needs_background": "light"
     },
     "output_type": "display_data"
    }
   ],
   "source": [
    "# extract feature importance\n",
    "feature_importance = pd.DataFrame(rf7_classifier.feature_importances_, index=x_train.columns, columns=['importance']).sort_values('importance',ascending=False)\n",
    "feature_importance.plot(kind='bar')"
   ]
  },
  {
   "cell_type": "markdown",
   "metadata": {},
   "source": [
    "commonAuthors remains the most important, but max and min triangles do make a contribution.\n",
    "\n",
    "## Community Detection\n",
    "So far we've added features based on connectivity of individual nodes. We also believe that *communities* - like common research communities, institutes, departments, labs, etc - are likely to be relevant to predicting coauthorship. Rather than trying to find the raw data to label communities, we can identify them using unsupervised methods: label propogation and the louvain algorithm.\n",
    "\n",
    "*Label propagation* is a fast algorithm for finding communities using network structure alone. Every node is initialized with a unique label, the labels are propagated through the network and at each iteration of propagation, each node updates its label to the one that the maximum number of it's neighbors belong to (ties are broken uniformly and randomly). LPA reaches convergence when each node has the majority label of it's neighbors.\n",
    "\n",
    "The *Louvain method* of community detection is an algorithm for detecting communities in networks. It maximizes a modularity score for each community, where the modularity quantifies the quality of an assignment of nodes to communities by evaluating how much more densely connected the nodes within a community are, compared to how connected they would be in a random network. It can reval hierarchies in communities at different scales, which can be useful for understanding the global functioning of a network. However, there are some limitations:\n",
    "-  resolution: For larger networks, the Louvain method doesn’t stop with the \"intuitive\" communities. Instead, there’s a second pass through the community modification and coarse-graining stages, in which several of the intuitive communities are merged together. \n",
    "-  degeneracy: There is typically an exponentially large (in network size) number of community assignments with modularities close to the maximum. This can be a severe problem because, in the presence of a large number of high modularity solutions, it’s hard to find the global maximum, and difficult to determine if the global maximum is truly more scientifically important than local maxima that achieve similar modularity. \n",
    "\n",
    "Let's add in community labels from LPA as well as louvain and look at their impact on the model performance."
   ]
  },
  {
   "cell_type": "code",
   "execution_count": 479,
   "metadata": {},
   "outputs": [],
   "source": [
    "# add LPA partitions \n",
    "query='''\n",
    "CALL algo.labelPropagation(\"Author\", \"CO_AUTHOR_EARLY\", \"BOTH\",\n",
    "  {partitionProperty: \"partitionTrain\"});\n",
    "'''\n",
    "coauthorGraph.run(query);"
   ]
  },
  {
   "cell_type": "code",
   "execution_count": 480,
   "metadata": {},
   "outputs": [],
   "source": [
    "query='''\n",
    "CALL algo.labelPropagation(\"Author\", \"CO_AUTHOR_LATE\", \"BOTH\",\n",
    "  {partitionProperty: \"partitionTest\"});\n",
    "'''\n",
    "coauthorGraph.run(query);"
   ]
  },
  {
   "cell_type": "code",
   "execution_count": 481,
   "metadata": {},
   "outputs": [],
   "source": [
    "# calculate the Louvain clusters: \n",
    "query='''\n",
    "CALL algo.louvain.stream(\"Author\", \"CO_AUTHOR_EARLY\", {includeIntermediateCommunities:true})\n",
    "YIELD nodeId, community, communities\n",
    "WITH algo.getNodeById(nodeId) AS node, communities[0] AS smallestCommunity\n",
    "SET node.louvainTrain = smallestCommunity;\n",
    "'''\n",
    "coauthorGraph.run(query);\n",
    "\n",
    "query='''\n",
    "CALL algo.louvain.stream(\"Author\", \"CO_AUTHOR_LATE\", {includeIntermediateCommunities:true})\n",
    "YIELD nodeId, community, communities\n",
    "WITH algo.getNodeById(nodeId) AS node, communities[0] AS smallestCommunity\n",
    "SET node.louvainTest = smallestCommunity;\n",
    "'''\n",
    "coauthorGraph.run(query);"
   ]
  },
  {
   "cell_type": "code",
   "execution_count": 486,
   "metadata": {},
   "outputs": [],
   "source": [
    "def apply_community_features(data, partition_prop, louvain_prop):\n",
    "    query='''\n",
    "    UNWIND $pairs AS pair\n",
    "    MATCH (p1) WHERE id(p1) = pair.node1\n",
    "    MATCH (p2) WHERE id(p2) = pair.node2\n",
    "    RETURN pair.node1 AS node1,\n",
    "           pair.node2 AS node2,\n",
    "           CASE WHEN p1[$partitionProp] = p2[$partitionProp] THEN 1 ELSE 0 END AS samePartition,\n",
    "           CASE WHEN p1[$louvainProp] = p2[$louvainProp] THEN 1 ELSE 0 END AS sameLouvain\n",
    "    '''\n",
    "    # you have to recast the node IDs as ints bc of a collision with numpy int64\n",
    "    params = {\n",
    "        \"pairs\" : [{\"node1\":int(row[\"node1\"]), \"node2\": int(row[\"node2\"])} for index, row in data.iterrows()],    \n",
    "        \"partitionProp\": partition_prop,\n",
    "        \"louvainProp\": louvain_prop\n",
    "    }\n",
    "    result = coauthorGraph.run(query,params).data()\n",
    "    result = pd.DataFrame(result)\n",
    "    merged_result = pd.merge(data, result, on=['node1','node2'])\n",
    "    return merged_result"
   ]
  },
  {
   "cell_type": "code",
   "execution_count": 488,
   "metadata": {},
   "outputs": [],
   "source": [
    "training_df = apply_community_features(training_df, \"partitionTrain\", \"louvainTrain\")\n",
    "testing_df = apply_community_features(testing_df,  \"partitionTest\", \"louvainTest\")"
   ]
  },
  {
   "cell_type": "code",
   "execution_count": 491,
   "metadata": {},
   "outputs": [],
   "source": [
    "# I should make plots here to compare LPA and Louvain communities between \n",
    "# authors who have and haven't collaborated, but I'm tired, so I'll leave \n",
    "# that for tomorrow"
   ]
  },
  {
   "cell_type": "code",
   "execution_count": 493,
   "metadata": {},
   "outputs": [
    {
     "name": "stdout",
     "output_type": "stream",
     "text": [
      "accuracy: 0.9697078027196201\n",
      "recall: 0.9653032592272826\n",
      "precision: 0.9738822728819326\n",
      "AUC: 0.9697078027196201\n"
     ]
    }
   ],
   "source": [
    "# random forest classifier - set up the model inputs and targets\n",
    "# have to reshape the arrays to work with sklearn\n",
    "#x_train=training_df['commonAuthors'].values.reshape(-1,1)\n",
    "x_train=training_df[[\"commonAuthors\", \"prefAttachment\", \"totalNeighbours\", \"minTriangles\", \"maxTriangles\",\n",
    "          \"minCoefficient\", \"maxCoefficient\", \"samePartition\", \"sameLouvain\"]]\n",
    "x_test11=testing_df[[\"commonAuthors\", \"prefAttachment\", \"totalNeighbours\", \"minTriangles\", \"maxTriangles\",\n",
    "          \"minCoefficient\", \"maxCoefficient\", \"samePartition\", \"sameLouvain\"]]\n",
    "y_train=training_df['label'].values.reshape(-1,1)\n",
    "y_test=testing_df['label'].values.reshape(-1,1)\n",
    "\n",
    "rf11_classifier=RandomForestClassifier(random_state=42)\n",
    "# use np.ravel to swap the labels from column to row format\n",
    "rf11_classifier.fit(x_train, np.ravel(y_train))\n",
    "\n",
    "y_preds11=rf11_classifier.predict(x_test11)\n",
    "print(\"accuracy:\", accuracy_score(y_test,y_preds11))\n",
    "print(\"recall:\", recall_score(y_test,y_preds11))\n",
    "print(\"precision:\", precision_score(y_test,y_preds11))\n",
    "print(\"AUC:\", roc_auc_score(y_test, y_preds11))"
   ]
  },
  {
   "cell_type": "markdown",
   "metadata": {},
   "source": [
    "Our metrics are still improving slightly, so let's plot the ROC curve as well:"
   ]
  },
  {
   "cell_type": "code",
   "execution_count": 494,
   "metadata": {},
   "outputs": [
    {
     "data": {
      "image/png": "[encoded data removed]",
      "text/plain": [
       "<Figure size 720x360 with 1 Axes>"
      ]
     },
     "metadata": {},
     "output_type": "display_data"
    },
    {
     "data": {
      "text/plain": [
       "<Figure size 14400x1440 with 0 Axes>"
      ]
     },
     "metadata": {},
     "output_type": "display_data"
    }
   ],
   "source": [
    "fpr, tpr, thresholds = roc_curve(y_test, y_preds)\n",
    "fpr3, tpr3, thresholds3 = roc_curve(y_test, y_preds3)\n",
    "fpr7, tpr7, thresholds7 = roc_curve(y_test, y_preds7)\n",
    "fpr11, tpr11, thresholds11 = roc_curve(y_test, y_preds11)\n",
    "plt.close()\n",
    "plt.figure(figsize=(10,5))\n",
    "plt.plot(fpr, tpr, label='Common Authors, AUC = 0.84')\n",
    "plt.plot([0,1],[0,1], label='Random Score, AUC = 0.50')\n",
    "plt.plot(fpr3, tpr3, label='CommonAuthors, PrefAttach, totalNeighbors, AUC = 0.92')\n",
    "plt.plot(fpr7, tpr7, label='Triangles & Clustering Coefficients, AUC = 0.95')\n",
    "plt.plot(fpr11, tpr11, label='Community Metrics, AUC = 0.97')\n",
    "plt.xlabel('false positive rate')\n",
    "plt.ylabel('true positive rate')\n",
    "plt.legend(loc=\"bottom right\")\n",
    "plt.figure(figsize=(200,20))\n",
    "plt.show()"
   ]
  },
  {
   "cell_type": "code",
   "execution_count": 495,
   "metadata": {},
   "outputs": [
    {
     "data": {
      "text/plain": [
       "<matplotlib.axes._subplots.AxesSubplot at 0x20a25f5d828>"
      ]
     },
     "execution_count": 495,
     "metadata": {},
     "output_type": "execute_result"
    },
    {
     "data": {
      "image/png": "[encoded data removed]",
      "text/plain": [
       "<Figure size 432x288 with 1 Axes>"
      ]
     },
     "metadata": {},
     "output_type": "display_data"
    }
   ],
   "source": [
    "# extract feature importance\n",
    "feature_importance = pd.DataFrame(rf11_classifier.feature_importances_, index=x_train.columns, columns=['importance']).sort_values('importance',ascending=False)\n",
    "feature_importance.plot(kind='bar')"
   ]
  },
  {
   "cell_type": "markdown",
   "metadata": {},
   "source": [
    "What's really interesting here is that for the first time, we see a big shift in variable importance: now belonging to the same Louvain community is the most important variable, followed by common authors and then same partition (another community metric). It looks like community detection algorithms, unsurprisingly, are important predictors of co-authorship."
   ]
  },
  {
   "cell_type": "code",
   "execution_count": null,
   "metadata": {},
   "outputs": [],
   "source": []
  }
 ],
 "metadata": {
  "kernelspec": {
   "display_name": "Python 3",
   "language": "python",
   "name": "python3"
  },
  "language_info": {
   "codemirror_mode": {
    "name": "ipython",
    "version": 3
   },
   "file_extension": ".py",
   "mimetype": "text/x-python",
   "name": "python",
   "nbconvert_exporter": "python",
   "pygments_lexer": "ipython3",
   "version": "3.6.7"
  }
 },
 "nbformat": 4,
 "nbformat_minor": 2
}
