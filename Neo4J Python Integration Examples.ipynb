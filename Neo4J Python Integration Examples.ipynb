{
 "cells": [
  {
   "cell_type": "markdown",
   "metadata": {},
   "source": [
    "# Neo4J Python Driver Examples\n",
    "\n",
    "This notebook contains reference code to demonstrate how to connect to Neo4J using a python driver, run queries, and write results to a csv.\n",
    "\n",
    "There are two popular Neo4J Python drivers: the offical neo4j Python driver and Py2Neo. The official driver is supported by Neo4J, while Py2Neo is intended for use with community edition and may fail when used on enterprise edition causal clusters. \n",
    "\n",
    "I recommend prototyping with Py2Neo because it's a bit simpler and more intuitive to use, but any production work should be done with the official drivers.\n",
    "\n",
    "All of these examples are to show connecting to a local database and querying the \"Movies\" graph. If you have Neo4J desktop installed, you can replicate this setup exactly by using `:play movies` in the browser and clicking through the instructions to build the movies graph.\n",
    "\n",
    "## Official Python Driver"
   ]
  },
  {
   "cell_type": "code",
   "execution_count": 7,
   "metadata": {},
   "outputs": [],
   "source": [
    "from neo4j.v1 import GraphDatabase\n",
    "import csv"
   ]
  },
  {
   "cell_type": "code",
   "execution_count": 2,
   "metadata": {},
   "outputs": [],
   "source": [
    "password='password'\n",
    "user='neo4j'\n",
    "uri = 'bolt://localhost:7687'"
   ]
  },
  {
   "cell_type": "code",
   "execution_count": 3,
   "metadata": {},
   "outputs": [],
   "source": [
    "driver=GraphDatabase.driver(uri, auth=(user,password))"
   ]
  },
  {
   "cell_type": "code",
   "execution_count": 25,
   "metadata": {},
   "outputs": [],
   "source": [
    "session=driver.session()\n",
    "session.begin_transaction()\n",
    "result=session.run(\"MATCH (p:Person) WHERE p.name CONTAINS 'Tom' RETURN p.name\")\n",
    "\n",
    "with open('results.csv', mode='w') as output_file:\n",
    "    output_writer = csv.writer(output_file, delimiter=',', quotechar='\"', quoting=csv.QUOTE_MINIMAL)\n",
    "    output_writer.writerow([\"ACTOR_NAME\"]) #there's a writeheader method if you use a dictwriter object\n",
    "    for record in result:\n",
    "        output_writer.writerow([record[\"p.name\"]])\n"
   ]
  },
  {
   "cell_type": "markdown",
   "metadata": {},
   "source": [
    "## Py2Neo\n",
    "\n",
    "Py2Neo wraps the official driver and makes it easier to move data into and out of pandas dataframes. "
   ]
  },
  {
   "cell_type": "code",
   "execution_count": 17,
   "metadata": {},
   "outputs": [],
   "source": [
    "from py2neo import Graph\n",
    "import pandas as pd"
   ]
  },
  {
   "cell_type": "code",
   "execution_count": 16,
   "metadata": {},
   "outputs": [],
   "source": [
    "password='password'\n",
    "user='neo4j'\n",
    "uri = 'bolt://localhost:7687'\n",
    "movie_graph=Graph(uri, auth=(user,password))"
   ]
  },
  {
   "cell_type": "code",
   "execution_count": 21,
   "metadata": {},
   "outputs": [],
   "source": [
    "query='''\n",
    "    MATCH (p:Person) WHERE p.name CONTAINS 'Tom' RETURN p.name\n",
    "'''\n",
    "results=movie_graph.run(query).to_data_frame()"
   ]
  },
  {
   "cell_type": "code",
   "execution_count": 24,
   "metadata": {},
   "outputs": [],
   "source": [
    "results.to_csv(\"py2neo_output.csv\",index=False)"
   ]
  },
  {
   "cell_type": "code",
   "execution_count": null,
   "metadata": {},
   "outputs": [],
   "source": []
  }
 ],
 "metadata": {
  "kernelspec": {
   "display_name": "Python 3",
   "language": "python",
   "name": "python3"
  },
  "language_info": {
   "codemirror_mode": {
    "name": "ipython",
    "version": 3
   },
   "file_extension": ".py",
   "mimetype": "text/x-python",
   "name": "python",
   "nbconvert_exporter": "python",
   "pygments_lexer": "ipython3",
   "version": "3.6.7"
  }
 },
 "nbformat": 4,
 "nbformat_minor": 2
}
